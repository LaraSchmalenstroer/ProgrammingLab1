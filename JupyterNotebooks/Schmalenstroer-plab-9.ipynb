{
 "cells": [
  {
   "cell_type": "markdown",
   "metadata": {},
   "source": [
    "# Programming Lab 1 \n",
    "\n",
    "## Handout 9\n",
    "\n",
    "## Lara Schmalenstroer (s0laschm@uni-bonn.de)"
   ]
  },
  {
   "cell_type": "markdown",
   "metadata": {},
   "source": [
    "### 1. (20pts) k-mer distributions\n",
    "#### (a) (5pts) Write a function kmer_frequencies(seqs,k) that takes a set of mRNA sequences seqs and a parameter k as input and returns the relative frequencies for all k-mers contained in the sequences as a dictionary. Note, that each sequence of length n contains n−k+ 1 k-mers. For the calculation of relative frequencies use pseudocounts. That is, the frequency of each k-mer is increased by 1, regardless whether it occurs in the sequences or not."
   ]
  },
  {
   "cell_type": "code",
   "execution_count": 1,
   "metadata": {},
   "outputs": [],
   "source": [
    "from itertools import product\n",
    "\n",
    "def kmer_frequencies(seqs,k):\n",
    "    bases=('A','C','T','G')\n",
    "    kmers=list(product(bases,repeat=k))\n",
    "    for i in range(len(kmers)):\n",
    "        kmers[i]=''.join(kmers[i])\n",
    "    frequencies={kmer:1 for kmer in kmers}\n",
    "    for seq in seqs:\n",
    "        start=0\n",
    "        end=k\n",
    "        kmer=seq[start:end]\n",
    "        while len(kmer)==k:\n",
    "            frequencies[kmer]+=1\n",
    "            start+=1\n",
    "            end+=1\n",
    "            kmer=seq[start:end]\n",
    "    no_kmers=sum(frequencies.values())\n",
    "    relative_frequencies={kmer:(frequencies[kmer]/no_kmers) for kmer in frequencies}\n",
    "    return relative_frequencies"
   ]
  },
  {
   "cell_type": "code",
   "execution_count": 2,
   "metadata": {},
   "outputs": [],
   "source": [
    "from fastatools import fasta_list\n",
    "exosome_sensitive=fasta_list('exosome-sensitive.fa')\n",
    "exosome_insensitive=fasta_list('exosome-insensitive.fa')\n",
    "\n",
    "for i in range(len(exosome_sensitive)):\n",
    "    exosome_sensitive[i]=str(exosome_sensitive[i][1])\n",
    "    \n",
    "for i in range(len(exosome_insensitive)):\n",
    "    exosome_insensitive[i]=str(exosome_insensitive[i][1])"
   ]
  },
  {
   "cell_type": "code",
   "execution_count": 6,
   "metadata": {},
   "outputs": [],
   "source": [
    "frequencies_sensitive=kmer_frequencies(exosome_sensitive,2)"
   ]
  },
  {
   "cell_type": "code",
   "execution_count": 7,
   "metadata": {},
   "outputs": [
    {
     "name": "stdout",
     "output_type": "stream",
     "text": [
      "{'AA': 0.07429992232481042, 'AC': 0.047852321046773276, 'AT': 0.04977017753185083, 'AG': 0.07112484885369037, 'CA': 0.06226026793936531, 'CC': 0.07539298040503208, 'CT': 0.06983560086163407, 'CG': 0.040341050136532164, 'TA': 0.044897460741998255, 'TC': 0.057966111195637375, 'TT': 0.07734486983399931, 'TG': 0.06859640131647435, 'GA': 0.061701727271999296, 'GC': 0.06648836073318973, 'GT': 0.05193227043778378, 'GG': 0.08019562936922942}\n"
     ]
    }
   ],
   "source": [
    "print(frequencies_sensitive)"
   ]
  },
  {
   "cell_type": "code",
   "execution_count": 4,
   "metadata": {},
   "outputs": [],
   "source": [
    "frequencies_insensitive=kmer_frequencies(exosome_insensitive,3)"
   ]
  },
  {
   "cell_type": "markdown",
   "metadata": {},
   "source": [
    "#### (b) (6 pts) Write a function log_odds_ratio(observed,background) that takes as argument a dictionary of observed frequencies of k-mers and a dictionary containing the background frequencies of the individual nucleotides and calculates the log-odds ratio."
   ]
  },
  {
   "cell_type": "code",
   "execution_count": 5,
   "metadata": {},
   "outputs": [],
   "source": [
    "from math import log\n",
    "\n",
    "def log_odds_ratio(observed,background):\n",
    "    expected_frequencies={}\n",
    "    for kmer in observed:\n",
    "        exp=1\n",
    "        for i in range(len(kmer)):\n",
    "            exp*=background[kmer[i]]\n",
    "        expected_frequencies[kmer]=exp\n",
    "    log_odds={kmer:log((observed[kmer]/expected_frequencies[kmer]),2) for kmer in observed}\n",
    "    return log_odds"
   ]
  },
  {
   "cell_type": "markdown",
   "metadata": {},
   "source": [
    "#### (c) (3pts) For the given data exosome-sensitive.fa and exosome-insensitive.fa calculate\n",
    "##### i.The background frequencies of the nucleotides using the combined set of sequences.\n",
    "##### ii.The observed frequencies of k-mers for a) the sensitive sequences and b) the insensitive sequences\n",
    "##### iii.Using the common background frequency calculate the log-odds ratio for the set of sensitive and insensitve sequences"
   ]
  },
  {
   "cell_type": "code",
   "execution_count": 6,
   "metadata": {},
   "outputs": [],
   "source": [
    "sensitive_insensitive=exosome_sensitive+exosome_insensitive"
   ]
  },
  {
   "cell_type": "code",
   "execution_count": 7,
   "metadata": {},
   "outputs": [],
   "source": [
    "common_background=kmer_frequencies(sensitive_insensitive,1)"
   ]
  },
  {
   "cell_type": "code",
   "execution_count": 8,
   "metadata": {},
   "outputs": [
    {
     "name": "stdout",
     "output_type": "stream",
     "text": [
      "{'A': 0.2156571373714505, 'C': 0.26542893828424685, 'T': 0.23143007427970289, 'G': 0.28748385006459976}\n"
     ]
    }
   ],
   "source": [
    "print(common_background)"
   ]
  },
  {
   "cell_type": "code",
   "execution_count": 9,
   "metadata": {},
   "outputs": [],
   "source": [
    "sensitive_observed={}\n",
    "ks=[2,3,4,6]\n",
    "for k in ks:\n",
    "    sensitive_observed[k]=kmer_frequencies(exosome_sensitive,k)"
   ]
  },
  {
   "cell_type": "code",
   "execution_count": 10,
   "metadata": {},
   "outputs": [
    {
     "data": {
      "text/plain": [
       "{'AAAA': 0.011270039859169615,\n",
       " 'AAAC': 0.004627513252973398,\n",
       " 'AAAT': 0.006389898066389176,\n",
       " 'AAAG': 0.005940780662287772,\n",
       " 'AACA': 0.004128271138592819,\n",
       " 'AACC': 0.0034425651019737106,\n",
       " 'AACT': 0.0035708843602883975,\n",
       " 'AACG': 0.0014275517487508922,\n",
       " 'AATA': 0.004388919632044527,\n",
       " 'AATC': 0.0032260263535676763,\n",
       " 'AATT': 0.004948311398760116,\n",
       " 'AATG': 0.0037352934100040903,\n",
       " 'AAGA': 0.004964351306049451,\n",
       " 'AAGC': 0.0035789043139330657,\n",
       " 'AAGT': 0.003989926938222297,\n",
       " 'AAGG': 0.004601448403628227,\n",
       " 'ACAA': 0.003759353270938094,\n",
       " 'ACAC': 0.0035748943371107316,\n",
       " 'ACAT': 0.003075652222730153,\n",
       " 'ACAG': 0.004465109191668872,\n",
       " 'ACCA': 0.003364370553938198,\n",
       " 'ACCC': 0.004128271138592819,\n",
       " 'ACCT': 0.004130276127003986,\n",
       " 'ACCG': 0.0016080007057559208,\n",
       " 'ACTA': 0.002329796533776035,\n",
       " 'ACTC': 0.0033102358668366896,\n",
       " 'ACTT': 0.003909727401775618,\n",
       " 'ACTG': 0.0038195029232731036,\n",
       " 'ACGA': 0.0010566288926850003,\n",
       " 'ACGC': 0.0019909534922888145,\n",
       " 'ACGT': 0.0014957213547305696,\n",
       " 'ACGG': 0.001818524488928454,\n",
       " 'ATAA': 0.0038154929464507695,\n",
       " 'ATAC': 0.0021132577853700007,\n",
       " 'ATAT': 0.0031197619677758265,\n",
       " 'ATAG': 0.0022856867887303613,\n",
       " 'ATCA': 0.0027348041928317653,\n",
       " 'ATCC': 0.0032180063999230086,\n",
       " 'ATCT': 0.003266126121791016,\n",
       " 'ATCG': 0.0011648982668880175,\n",
       " 'ATTA': 0.0037172485143035874,\n",
       " 'ATTC': 0.003352340623471196,\n",
       " 'ATTT': 0.006173359317983142,\n",
       " 'ATTG': 0.002925278091892629,\n",
       " 'ATGA': 0.0031979565158113386,\n",
       " 'ATGC': 0.0023378164874207027,\n",
       " 'ATGT': 0.0032119914346895075,\n",
       " 'ATGG': 0.0031117420141311583,\n",
       " 'AGAA': 0.005734266855937573,\n",
       " 'AGAC': 0.0038455677726182743,\n",
       " 'AGAT': 0.0037312834331817563,\n",
       " 'AGAG': 0.005429508617440191,\n",
       " 'AGCA': 0.003867622645141111,\n",
       " 'AGCC': 0.005473618362485865,\n",
       " 'AGCT': 0.004487164064191709,\n",
       " 'AGCG': 0.0024480908500348867,\n",
       " 'AGTA': 0.0028871833120804563,\n",
       " 'AGTC': 0.003045577396562648,\n",
       " 'AGTT': 0.003851582737851775,\n",
       " 'AGTG': 0.004689667893719575,\n",
       " 'AGGA': 0.00577637161257208,\n",
       " 'AGGC': 0.006448042730313019,\n",
       " 'AGGT': 0.004066116497846642,\n",
       " 'AGGG': 0.005345299104171178,\n",
       " 'CAAA': 0.005253069637257497,\n",
       " 'CAAC': 0.0027608690421769364,\n",
       " 'CAAT': 0.0025162604560145644,\n",
       " 'CAAG': 0.0038054680043949347,\n",
       " 'CACA': 0.004447064295968369,\n",
       " 'CACC': 0.004441049330734868,\n",
       " 'CACT': 0.003979901996166462,\n",
       " 'CACG': 0.0022235321479841847,\n",
       " 'CATA': 0.00221350720592835,\n",
       " 'CATC': 0.0026285398070399154,\n",
       " 'CATT': 0.0035688793718772305,\n",
       " 'CATG': 0.002925278091892629,\n",
       " 'CAGA': 0.004900191676892107,\n",
       " 'CAGC': 0.00577637161257208,\n",
       " 'CAGT': 0.004106216266069982,\n",
       " 'CAGG': 0.006678616397597222,\n",
       " 'CCAA': 0.003793438073927933,\n",
       " 'CCAC': 0.004515233901948047,\n",
       " 'CCAT': 0.0030175075588063103,\n",
       " 'CCAG': 0.006891145169180922,\n",
       " 'CCCA': 0.006177369294805476,\n",
       " 'CCCC': 0.006343783332932336,\n",
       " 'CCCT': 0.005493668246597535,\n",
       " 'CCCG': 0.0048520719550241,\n",
       " 'CCTA': 0.002520270432836898,\n",
       " 'CCTC': 0.006642526606196216,\n",
       " 'CCTT': 0.004635533206618065,\n",
       " 'CCTG': 0.007600911066734034,\n",
       " 'CCGA': 0.0022495969973293554,\n",
       " 'CCGC': 0.004238545501207003,\n",
       " 'CCGT': 0.0019247888747203042,\n",
       " 'CCGG': 0.004509218936714546,\n",
       " 'CTAA': 0.0028190137061007785,\n",
       " 'CTAC': 0.002391951174522211,\n",
       " 'CTAT': 0.0019789235618218127,\n",
       " 'CTAG': 0.002682674494141424,\n",
       " 'CTCA': 0.004932271491470779,\n",
       " 'CTCC': 0.0066705964439525535,\n",
       " 'CTCT': 0.005285149451836169,\n",
       " 'CTCG': 0.002766884007410437,\n",
       " 'CTTA': 0.0028230236829231126,\n",
       " 'CTTC': 0.00428065025784151,\n",
       " 'CTTT': 0.005890655952008598,\n",
       " 'CTTG': 0.004310725084009015,\n",
       " 'CTGA': 0.004667613021196737,\n",
       " 'CTGC': 0.0058084514271507515,\n",
       " 'CTGT': 0.0050184859931509595,\n",
       " 'CTGG': 0.007504671622998019,\n",
       " 'CGAA': 0.0015398310997762432,\n",
       " 'CGAC': 0.0012872025599692035,\n",
       " 'CGAT': 0.0011107635797865088,\n",
       " 'CGAG': 0.002833048624978948,\n",
       " 'CGCA': 0.001942833770420807,\n",
       " 'CGCC': 0.0047518225344657505,\n",
       " 'CGCT': 0.00269871440143076,\n",
       " 'CGCG': 0.003532789580476225,\n",
       " 'CGTA': 0.0008781849240911387,\n",
       " 'CGTC': 0.0019067439790198012,\n",
       " 'CGTT': 0.0016240406130452567,\n",
       " 'CGTG': 0.002632549783862249,\n",
       " 'CGGA': 0.0026465847027404184,\n",
       " 'CGGC': 0.003879652575608113,\n",
       " 'CGGT': 0.0019047389906086342,\n",
       " 'CGGG': 0.00523101476473466,\n",
       " 'TAAA': 0.005489658269775201,\n",
       " 'TAAC': 0.0021714024492938432,\n",
       " 'TAAT': 0.0038656176567299443,\n",
       " 'TAAG': 0.002680669505730257,\n",
       " 'TACA': 0.0032621161449686823,\n",
       " 'TACC': 0.00194082878200964,\n",
       " 'TACT': 0.0027749039610551053,\n",
       " 'TACG': 0.0008340751790454651,\n",
       " 'TATA': 0.002670644563674422,\n",
       " 'TATC': 0.0017784247207051143,\n",
       " 'TATT': 0.004246565454851671,\n",
       " 'TATG': 0.0022455870205070213,\n",
       " 'TAGA': 0.003025527512450978,\n",
       " 'TAGC': 0.0025282903864815662,\n",
       " 'TAGT': 0.0025082405023698962,\n",
       " 'TAGG': 0.0028450785554459497,\n",
       " 'TCAA': 0.0034566000208518795,\n",
       " 'TCAC': 0.0037152435258924203,\n",
       " 'TCAT': 0.0028210186945119456,\n",
       " 'TCAG': 0.004701697824186576,\n",
       " 'TCCA': 0.004076141439902477,\n",
       " 'TCCC': 0.006399923008445011,\n",
       " 'TCCT': 0.005405448756506188,\n",
       " 'TCCG': 0.002460120780501889,\n",
       " 'TCTA': 0.0025463352821820688,\n",
       " 'TCTC': 0.0051708651123996505,\n",
       " 'TCTT': 0.004747812557643417,\n",
       " 'TCTG': 0.005136780309409812,\n",
       " 'TCGA': 0.001319282374547875,\n",
       " 'TCGC': 0.002303731684430864,\n",
       " 'TCGT': 0.0013774270384717176,\n",
       " 'TCGG': 0.0023217765801313668,\n",
       " 'TTAA': 0.004645558148673901,\n",
       " 'TTAC': 0.0028250286713342797,\n",
       " 'TTAT': 0.0036751437576690808,\n",
       " 'TTAG': 0.0031959515274001715,\n",
       " 'TTCA': 0.004292680188308511,\n",
       " 'TTCC': 0.005060590749785467,\n",
       " 'TTCT': 0.0052410397067904945,\n",
       " 'TTCG': 0.0017623848134157784,\n",
       " 'TTTA': 0.005447553513140694,\n",
       " 'TTTC': 0.005664092261546729,\n",
       " 'TTTT': 0.01331312305014877,\n",
       " 'TTTG': 0.005854566160607592,\n",
       " 'TTGA': 0.003937797239531956,\n",
       " 'TTGC': 0.0037012086070142515,\n",
       " 'TTGT': 0.004292680188308511,\n",
       " 'TTGG': 0.0044189944582120316,\n",
       " 'TGAA': 0.004735782627176415,\n",
       " 'TGAC': 0.0028069837756337767,\n",
       " 'TGAT': 0.002947332964415466,\n",
       " 'TGAG': 0.005351314069404678,\n",
       " 'TGCA': 0.004368869747932857,\n",
       " 'TGCC': 0.00453327879764855,\n",
       " 'TGCT': 0.004314735060831349,\n",
       " 'TGCG': 0.0024962105719028944,\n",
       " 'TGTA': 0.003612989116922904,\n",
       " 'TGTC': 0.003304220901603189,\n",
       " 'TGTT': 0.004581398519516557,\n",
       " 'TGTG': 0.004964351306049451,\n",
       " 'TGGA': 0.005002446085861624,\n",
       " 'TGGC': 0.00487212183913577,\n",
       " 'TGGT': 0.003729278444770589,\n",
       " 'TGGG': 0.006969339717216434,\n",
       " 'GAAA': 0.006249548877607487,\n",
       " 'GAAC': 0.0030175075588063103,\n",
       " 'GAAT': 0.003546824499354394,\n",
       " 'GAAG': 0.0047177377314759125,\n",
       " 'GACA': 0.0030495873733849817,\n",
       " 'GACC': 0.003412490275806206,\n",
       " 'GACT': 0.003043572408151481,\n",
       " 'GACG': 0.0018726591760299626,\n",
       " 'GATA': 0.002081177970791329,\n",
       " 'GATC': 0.0027548540769434353,\n",
       " 'GATT': 0.0034265251946843747,\n",
       " 'GATG': 0.0029573579064713007,\n",
       " 'GAGA': 0.005852561172196425,\n",
       " 'GAGC': 0.004388919632044527,\n",
       " 'GAGT': 0.0038495777494406084,\n",
       " 'GAGG': 0.007520711530287355,\n",
       " 'GCAA': 0.0033342957277706937,\n",
       " 'GCAC': 0.0032921909711361866,\n",
       " 'GCAT': 0.00242603597751205,\n",
       " 'GCAG': 0.005399433791272687,\n",
       " 'GCCA': 0.004605458380450561,\n",
       " 'GCCC': 0.005952810592754774,\n",
       " 'GCCT': 0.006359823240221671,\n",
       " 'GCCG': 0.003973887030932961,\n",
       " 'GCTA': 0.0024881906182582267,\n",
       " 'GCTC': 0.0045292688208262155,\n",
       " 'GCTT': 0.004003961857100466,\n",
       " 'GCTG': 0.006450047718724186,\n",
       " 'GCGA': 0.0021353126578928373,\n",
       " 'GCGC': 0.004364859771110523,\n",
       " 'GCGT': 0.0022235321479841847,\n",
       " 'GCGG': 0.004986406178572288,\n",
       " 'GTAA': 0.002945327976004299,\n",
       " 'GTAC': 0.0014957213547305696,\n",
       " 'GTAT': 0.002185437368172012,\n",
       " 'GTAG': 0.0027408191580652664,\n",
       " 'GTCA': 0.0027468341232987675,\n",
       " 'GTCC': 0.003382415449638701,\n",
       " 'GTCT': 0.0038094779812172684,\n",
       " 'GTCG': 0.0016160206594005887,\n",
       " 'GTTA': 0.0023638813367658734,\n",
       " 'GTTC': 0.0030736472343189858,\n",
       " 'GTTT': 0.004928261514648445,\n",
       " 'GTTG': 0.003268131110202183,\n",
       " 'GTGA': 0.004036041671679137,\n",
       " 'GTGC': 0.0038616076799076102,\n",
       " 'GTGT': 0.00394180721635429,\n",
       " 'GTGG': 0.005561837852577212,\n",
       " 'GGAA': 0.005513718130709205,\n",
       " 'GGAC': 0.0034385551251513765,\n",
       " 'GGAT': 0.0034365501367402095,\n",
       " 'GGAG': 0.007973838911211093,\n",
       " 'GGCA': 0.004282655246252677,\n",
       " 'GGCC': 0.006125239596115134,\n",
       " 'GGCT': 0.005974865465277611,\n",
       " 'GGCG': 0.005216979845856491,\n",
       " 'GGTA': 0.0019909534922888145,\n",
       " 'GGTC': 0.003300210924780855,\n",
       " 'GGTT': 0.0035789043139330657,\n",
       " 'GGTG': 0.005122745390531642,\n",
       " 'GGGA': 0.006915205030114926,\n",
       " 'GGGC': 0.006381878112744509,\n",
       " 'GGGT': 0.004286665223075011,\n",
       " 'GGGG': 0.00668663635124189}"
      ]
     },
     "execution_count": 10,
     "metadata": {},
     "output_type": "execute_result"
    }
   ],
   "source": [
    "sensitive_observed[4]"
   ]
  },
  {
   "cell_type": "code",
   "execution_count": 11,
   "metadata": {},
   "outputs": [],
   "source": [
    "insensitive_observed={}\n",
    "for k in ks:\n",
    "    insensitive_observed[k]=kmer_frequencies(exosome_insensitive,k)"
   ]
  },
  {
   "cell_type": "code",
   "execution_count": 12,
   "metadata": {},
   "outputs": [],
   "source": [
    "log_odd_sensitive={}\n",
    "for k in ks:\n",
    "    log_odd_sensitive[k]=log_odds_ratio(sensitive_observed[k],common_background)"
   ]
  },
  {
   "cell_type": "code",
   "execution_count": 13,
   "metadata": {},
   "outputs": [
    {
     "name": "stdout",
     "output_type": "stream",
     "text": [
      "{'AA': 0.6758817741658929, 'AC': -0.2584762292925918, 'AT': -0.004034285502281399, 'AG': 0.1981333051117996, 'CA': 0.12124665279415558, 'CC': 0.09777886803821711, 'CT': 0.185060659444991, 'CG': -0.9195579409126051, 'TA': -0.1526819656495606, 'TC': -0.08369232103528618, 'TT': 0.530152894141335, 'TG': 0.044075625392117526, 'GA': -0.00690949986081586, 'GC': -0.19870477226333094, 'GT': -0.3574259664726365, 'GG': -0.043438212057074675}\n"
     ]
    }
   ],
   "source": [
    "print(log_odd_sensitive[2])"
   ]
  },
  {
   "cell_type": "code",
   "execution_count": 14,
   "metadata": {},
   "outputs": [],
   "source": [
    "log_odd_insensitive={}\n",
    "for k in ks:\n",
    "    log_odd_insensitive[k]=log_odds_ratio(insensitive_observed[k],common_background)"
   ]
  },
  {
   "cell_type": "code",
   "execution_count": 15,
   "metadata": {},
   "outputs": [
    {
     "name": "stdout",
     "output_type": "stream",
     "text": [
      "{'AAA': 0.38467209962686405, 'AAC': -0.5417617132941076, 'AAT': -0.3487929315634709, 'AAG': 0.07977589016790695, 'ACA': -0.35766444469694786, 'ACC': -0.19324353826458454, 'ACT': -0.3508725128247392, 'ACG': -1.1814546120282987, 'ATA': -0.9487111180255551, 'ATC': -0.7515106330429668, 'ATT': -0.28656928768454615, 'ATG': -0.5650864272915483, 'AGA': 0.19965272121195607, 'AGC': 0.18171298032452357, 'AGT': -0.19646813469170252, 'AGG': 0.4442947584512685, 'CAA': -0.4337511705503786, 'CAC': -0.24213813637936765, 'CAT': -0.5688652700967094, 'CAG': 0.4540103074872856, 'CCA': 0.16748840469195891, 'CCC': 0.7369399893341596, 'CCT': 0.5669156293928828, 'CCG': 0.16133247247726148, 'CTA': -0.8693471233368253, 'CTC': 0.3959579667086134, 'CTT': 0.20144038578192847, 'CTG': 0.6042660727379228, 'CGA': -0.8990283199401075, 'CGC': 0.03147900983718088, 'CGT': -1.0283144482159732, 'CGG': 0.16212560717647584, 'TAA': -0.46372869840813075, 'TAC': -1.0320647235832783, 'TAT': -0.8856428879087823, 'TAG': -0.825738181814348, 'TCA': -0.19736739421445726, 'TCC': 0.35440328987344777, 'TCT': 0.2470451119431638, 'TCG': -0.9327239467563405, 'TTA': -0.41348841783157775, 'TTC': 0.1235066448886968, 'TTT': 0.586963346849184, 'TTG': -0.14803448254377102, 'TGA': -0.04786280095823396, 'TGC': 0.0030604929724619397, 'TGT': -0.08973172255908302, 'TGG': 0.3346888938514801, 'GAA': 0.08263716473837783, 'GAC': -0.3660965219791664, 'GAT': -0.6730567526739325, 'GAG': 0.5465535999365587, 'GCA': -0.113172780672636, 'GCC': 0.5519471982085156, 'GCT': 0.21505456082698385, 'GCG': 0.10114488072578738, 'GTA': -1.0037653408674396, 'GTC': -0.3656833540324468, 'GTT': -0.32557266809595853, 'GTG': 0.04587454876233536, 'GGA': 0.4209823373323446, 'GGC': 0.5388242298260564, 'GGT': -0.1494920826015387, 'GGG': 0.6772997534358853}\n"
     ]
    }
   ],
   "source": [
    "print(log_odd_insensitive[3])"
   ]
  },
  {
   "cell_type": "markdown",
   "metadata": {},
   "source": [
    "#### (d) (3pts) To discriminate k-mer composition of sensitive and insensitive RNA sequences you could take either \n",
    "+ the difference or\n",
    "+ the ratio\n",
    "#### of the log-odds score of sensitive and insensitive sequences for eachk-mer. However, only one of the options is correct! Write a small function that determines the correct discriminatory values for each k-mer. Perform these calculations for k= 2, 3, and 4."
   ]
  },
  {
   "cell_type": "code",
   "execution_count": 16,
   "metadata": {},
   "outputs": [],
   "source": [
    "def discriminatory_values(vals_sensitive,vals_insensitive):\n",
    "    discriminator={kmer:(vals_sensitive[kmer]-vals_insensitive[kmer]) for kmer in vals_sensitive}\n",
    "    return discriminator"
   ]
  },
  {
   "cell_type": "code",
   "execution_count": 17,
   "metadata": {},
   "outputs": [],
   "source": [
    "discriminators={}\n",
    "for k in ks:\n",
    "    discriminators[k]=discriminatory_values(log_odd_sensitive[k],log_odd_insensitive[k])"
   ]
  },
  {
   "cell_type": "code",
   "execution_count": 18,
   "metadata": {},
   "outputs": [
    {
     "data": {
      "text/plain": [
       "{'AA': 0.7500729882522265,\n",
       " 'AC': 0.23841511308994728,\n",
       " 'AT': 0.6094549759319928,\n",
       " 'AG': 0.006593421260580823,\n",
       " 'CA': 0.2190485666321651,\n",
       " 'CC': -0.3336791005797199,\n",
       " 'CT': -0.041860350435746846,\n",
       " 'CG': -0.6360945820846531,\n",
       " 'TA': 0.6481121620555476,\n",
       " 'TC': -0.013736042250372199,\n",
       " 'TT': 0.44798525088687946,\n",
       " 'TG': -0.03280223512280575,\n",
       " 'GA': -0.005885890017173005,\n",
       " 'GC': -0.4194398310245864,\n",
       " 'GT': -0.02645097658799994,\n",
       " 'GG': -0.468150137457879}"
      ]
     },
     "execution_count": 18,
     "metadata": {},
     "output_type": "execute_result"
    }
   ],
   "source": [
    "discriminators[2]"
   ]
  },
  {
   "cell_type": "markdown",
   "metadata": {},
   "source": [
    "#### (e) (3pts) Sort the k-mers from the lowest to the highest discriminatory values. What are the 16 kmers with highest/lowest scores? Plot the discriminatory values from lowest to highest for all k-mers using matplotlib or a Python plotting library of your choice. The x-axis contains the k-mers in increasing order of their discriminatory value and the y-axis is the value. Perform these calculations for k= 2,3, and 6."
   ]
  },
  {
   "cell_type": "code",
   "execution_count": 19,
   "metadata": {},
   "outputs": [],
   "source": [
    "import matplotlib.pyplot as plt\n",
    "%matplotlib inline"
   ]
  },
  {
   "cell_type": "code",
   "execution_count": 20,
   "metadata": {},
   "outputs": [
    {
     "data": {
      "image/png": "[encoded data removed]",
      "text/plain": [
       "<Figure size 432x288 with 1 Axes>"
      ]
     },
     "metadata": {
      "needs_background": "light"
     },
     "output_type": "display_data"
    },
    {
     "data": {
      "image/png": "[encoded data removed]",
      "text/plain": [
       "<Figure size 432x288 with 1 Axes>"
      ]
     },
     "metadata": {
      "needs_background": "light"
     },
     "output_type": "display_data"
    },
    {
     "data": {
      "image/png": "[encoded data removed]",
      "text/plain": [
       "<Figure size 432x288 with 1 Axes>"
      ]
     },
     "metadata": {
      "needs_background": "light"
     },
     "output_type": "display_data"
    },
    {
     "data": {
      "image/png": "[encoded data removed]",
      "text/plain": [
       "<Figure size 432x288 with 1 Axes>"
      ]
     },
     "metadata": {
      "needs_background": "light"
     },
     "output_type": "display_data"
    }
   ],
   "source": [
    "for k in ks:\n",
    "    sorted_values=sorted(discriminators[k].values())\n",
    "    xaxis=[i for i in range(1,len(sorted_values)+1)]\n",
    "    plt.scatter(xaxis,sorted_values,color='green')\n",
    "    plt.title(f'Discriminatory values for k = {k}')\n",
    "    plt.show()"
   ]
  },
  {
   "cell_type": "code",
   "execution_count": 21,
   "metadata": {},
   "outputs": [
    {
     "data": {
      "image/png": "[encoded data removed]",
      "text/plain": [
       "<Figure size 432x288 with 1 Axes>"
      ]
     },
     "metadata": {
      "needs_background": "light"
     },
     "output_type": "display_data"
    },
    {
     "data": {
      "image/png": "[encoded data removed]",
      "text/plain": [
       "<Figure size 432x288 with 1 Axes>"
      ]
     },
     "metadata": {
      "needs_background": "light"
     },
     "output_type": "display_data"
    },
    {
     "data": {
      "image/png": "[encoded data removed]",
      "text/plain": [
       "<Figure size 432x288 with 1 Axes>"
      ]
     },
     "metadata": {
      "needs_background": "light"
     },
     "output_type": "display_data"
    },
    {
     "data": {
      "image/png": "[encoded data removed]",
      "text/plain": [
       "<Figure size 432x288 with 1 Axes>"
      ]
     },
     "metadata": {
      "needs_background": "light"
     },
     "output_type": "display_data"
    }
   ],
   "source": [
    "for k in ks:\n",
    "    sorted_values=sorted(discriminators[k].values())\n",
    "    xaxis=[i for i in range(1,len(sorted_values)+1)]\n",
    "    plt.plot(xaxis,sorted_values,color='green')\n",
    "    plt.title(f'Discriminatory values for k = {k}')\n",
    "    plt.show()"
   ]
  },
  {
   "cell_type": "code",
   "execution_count": 22,
   "metadata": {},
   "outputs": [
    {
     "name": "stdout",
     "output_type": "stream",
     "text": [
      "------------------------------k=2--------------------------------------------------\n",
      "Highest values:\n",
      "kmer: AA, value: 0.7500729882522265\n",
      "kmer: TA, value: 0.6481121620555476\n",
      "kmer: AT, value: 0.6094549759319928\n",
      "kmer: TT, value: 0.44798525088687946\n",
      "kmer: AC, value: 0.23841511308994728\n",
      "kmer: CA, value: 0.2190485666321651\n",
      "kmer: AG, value: 0.006593421260580823\n",
      "kmer: GA, value: -0.005885890017173005\n",
      "kmer: TC, value: -0.013736042250372199\n",
      "kmer: GT, value: -0.02645097658799994\n",
      "kmer: TG, value: -0.03280223512280575\n",
      "kmer: CT, value: -0.041860350435746846\n",
      "kmer: CC, value: -0.3336791005797199\n",
      "kmer: GC, value: -0.4194398310245864\n",
      "kmer: GG, value: -0.468150137457879\n",
      "kmer: CG, value: -0.6360945820846531\n",
      "Lowest values:\n",
      "kmer: CG, value: -0.6360945820846531\n",
      "kmer: GG, value: -0.468150137457879\n",
      "kmer: GC, value: -0.4194398310245864\n",
      "kmer: CC, value: -0.3336791005797199\n",
      "kmer: CT, value: -0.041860350435746846\n",
      "kmer: TG, value: -0.03280223512280575\n",
      "kmer: GT, value: -0.02645097658799994\n",
      "kmer: TC, value: -0.013736042250372199\n",
      "kmer: GA, value: -0.005885890017173005\n",
      "kmer: AG, value: 0.006593421260580823\n",
      "kmer: CA, value: 0.2190485666321651\n",
      "kmer: AC, value: 0.23841511308994728\n",
      "kmer: TT, value: 0.44798525088687946\n",
      "kmer: AT, value: 0.6094549759319928\n",
      "kmer: TA, value: 0.6481121620555476\n",
      "kmer: AA, value: 0.7500729882522265\n",
      "------------------------------k=3--------------------------------------------------\n",
      "Highest values:\n",
      "kmer: AAA, value: 1.109640644573243\n",
      "kmer: ATA, value: 1.0244160149899944\n",
      "kmer: AAT, value: 0.9481151852800191\n",
      "kmer: TAA, value: 0.8647726193057769\n",
      "kmer: TAT, value: 0.8081473939483838\n",
      "kmer: ATT, value: 0.7724852623877267\n",
      "kmer: TTA, value: 0.7252512677872149\n",
      "kmer: TTT, value: 0.7017290112713018\n",
      "kmer: CAA, value: 0.6496015967562756\n",
      "kmer: ACA, value: 0.6269541298643051\n",
      "kmer: AAC, value: 0.5675859320011823\n",
      "kmer: CTA, value: 0.4454111483223628\n",
      "kmer: TAC, value: 0.4452856377654716\n",
      "kmer: TAG, value: 0.4305767559651117\n",
      "kmer: ATC, value: 0.3998029855836835\n",
      "kmer: GTA, value: 0.38802090327873384\n",
      "Lowest values:\n",
      "kmer: CGG, value: -0.846207896680949\n",
      "kmer: CCG, value: -0.8105811070849261\n",
      "kmer: GCG, value: -0.7799437283006175\n",
      "kmer: CGC, value: -0.6805038146343138\n",
      "kmer: GGG, value: -0.6470314116566642\n",
      "kmer: GGC, value: -0.5616586159645726\n",
      "kmer: GCC, value: -0.5076775154254897\n",
      "kmer: CCC, value: -0.4464811757702458\n",
      "kmer: CGA, value: -0.3843544952768032\n",
      "kmer: TCG, value: -0.3382689670651443\n",
      "kmer: GGT, value: -0.3021158038512952\n",
      "kmer: CGT, value: -0.3003052831875672\n",
      "kmer: GAG, value: -0.26859736113736005\n",
      "kmer: GTC, value: -0.2454250062404154\n",
      "kmer: GCT, value: -0.23007524955108494\n",
      "kmer: GGA, value: -0.22900988236564898\n",
      "------------------------------k=4--------------------------------------------------\n",
      "Highest values:\n",
      "kmer: AAAA, value: 1.4342432865464643\n",
      "kmer: AATA, value: 1.2710974986524237\n",
      "kmer: ATAA, value: 1.2128214344962172\n",
      "kmer: AAAT, value: 1.1703777536948556\n",
      "kmer: TAAA, value: 1.1626980427305127\n",
      "kmer: ATTA, value: 1.145619094926179\n",
      "kmer: ATAT, value: 1.093851340659255\n",
      "kmer: TTTT, value: 1.0717153044874141\n",
      "kmer: AATT, value: 1.0572383846034143\n",
      "kmer: TAAT, value: 1.0502519786711682\n",
      "kmer: TATA, value: 1.0306502128401847\n",
      "kmer: CAAA, value: 1.0121653809769315\n",
      "kmer: ACAA, value: 0.9493473948514133\n",
      "kmer: TACA, value: 0.9349832139865653\n",
      "kmer: CAAT, value: 0.9249651873304429\n",
      "kmer: TATT, value: 0.9204925530159425\n",
      "Lowest values:\n",
      "kmer: CGGC, value: -1.1007777700898767\n",
      "kmer: GCCG, value: -1.0741279580769074\n",
      "kmer: GCGG, value: -1.0479231026167495\n",
      "kmer: CCGC, value: -0.9633691281565733\n",
      "kmer: CCGG, value: -0.8976665828088972\n",
      "kmer: GGGG, value: -0.8692291804153448\n",
      "kmer: CGGG, value: -0.8665550811450025\n",
      "kmer: GGCG, value: -0.8658747007642125\n",
      "kmer: AGCG, value: -0.8149307929980096\n",
      "kmer: GGGC, value: -0.8088434042325021\n",
      "kmer: CGCG, value: -0.8057164266618502\n",
      "kmer: GCGC, value: -0.7502903836091304\n",
      "kmer: CCCG, value: -0.7271553736507508\n",
      "kmer: GGCC, value: -0.7265387120842852\n",
      "kmer: CGCC, value: -0.7263345827309682\n",
      "kmer: GCCC, value: -0.7038371512624682\n",
      "------------------------------k=6--------------------------------------------------\n",
      "Highest values:\n",
      "kmer: AAAAAA, value: 2.007320686448396\n",
      "kmer: GTAATC, value: 1.9938738972031587\n",
      "kmer: AATAAA, value: 1.9861942004749698\n",
      "kmer: ATATGA, value: 1.9289169019385177\n",
      "kmer: ATACAA, value: 1.8851360429679973\n",
      "kmer: AAAATA, value: 1.8804183842473274\n",
      "kmer: ATAAAA, value: 1.823843044846173\n",
      "kmer: ACTAAA, value: 1.8199183835215165\n",
      "kmer: CAAAAA, value: 1.8127214318074198\n",
      "kmer: ACAAAA, value: 1.7874003156819596\n",
      "kmer: TATCAA, value: 1.7802187921200903\n",
      "kmer: ATCATA, value: 1.7744402995848692\n",
      "kmer: ATCAAT, value: 1.7725895038969277\n",
      "kmer: ATTACA, value: 1.7667129375602586\n",
      "kmer: AAATAC, value: 1.7618402628052356\n",
      "kmer: TAATAA, value: 1.7500217469916526\n",
      "Lowest values:\n",
      "kmer: CGGCGG, value: -1.94179621055672\n",
      "kmer: GGCGGC, value: -1.92505781401444\n",
      "kmer: CCGCCG, value: -1.8713798339929006\n",
      "kmer: GCGGCA, value: -1.8171359428501894\n",
      "kmer: GCGGCG, value: -1.8055923133583447\n",
      "kmer: CGCCGC, value: -1.6651328494051394\n",
      "kmer: GCCGCC, value: -1.6613346644407896\n",
      "kmer: GTCGGA, value: -1.660513533728333\n",
      "kmer: CCGTCG, value: -1.6457165318002525\n",
      "kmer: ACGACG, value: -1.5563933485243853\n",
      "kmer: GGGCCG, value: -1.5432844694712857\n",
      "kmer: GCCGCA, value: -1.5322210386491832\n",
      "kmer: GCCGGC, value: -1.5041633897518276\n",
      "kmer: TCGACG, value: -1.4780472968046445\n",
      "kmer: TCCGCG, value: -1.4775789653475568\n",
      "kmer: CGCCGG, value: -1.4723046999516942\n"
     ]
    }
   ],
   "source": [
    "for k in ks:\n",
    "    discriminators_sorted=sorted(discriminators[k].items(), key=lambda item: item[1], reverse=True)\n",
    "    print(f'------------------------------k={k}--------------------------------------------------')\n",
    "    print('Highest values:')\n",
    "    for i in range(16):\n",
    "        print(f'kmer: {discriminators_sorted[i][0]}, value: {discriminators_sorted[i][1]}')\n",
    "    print('Lowest values:')\n",
    "    for i in range(1,17):\n",
    "        print(f'kmer: {discriminators_sorted[-i][0]}, value: {discriminators_sorted[-i][1]}')\n"
   ]
  },
  {
   "cell_type": "code",
   "execution_count": null,
   "metadata": {},
   "outputs": [],
   "source": []
  }
 ],
 "metadata": {
  "kernelspec": {
   "display_name": "Python 3",
   "language": "python",
   "name": "python3"
  },
  "language_info": {
   "codemirror_mode": {
    "name": "ipython",
    "version": 3
   },
   "file_extension": ".py",
   "mimetype": "text/x-python",
   "name": "python",
   "nbconvert_exporter": "python",
   "pygments_lexer": "ipython3",
   "version": "3.7.0"
  }
 },
 "nbformat": 4,
 "nbformat_minor": 2
}
