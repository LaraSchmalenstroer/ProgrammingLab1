{
 "cells": [
  {
   "cell_type": "markdown",
   "metadata": {},
   "source": [
    "# Programming Lab 1 \n",
    "\n",
    "## Handout 4 \n",
    "\n",
    "## Lara Schmalenstroer (s0laschm@uni-bonn.de)"
   ]
  },
  {
   "cell_type": "markdown",
   "metadata": {},
   "source": [
    "### Ex.1 (0 pts) Manually determining scoring matrices\n",
    "##### To test your understanding, consider this small example of a \"blocks alignment database\" consisting of 5 sequences of length 12 each. From these to numbers one can determinate the denominators in eqs. (2) and (3).\n",
    "\n",
    "TSVKTYAKFVTH\n",
    "\n",
    "TSVKTYAKFSTH\n",
    "\n",
    "TSVKTYAKFVTH\n",
    "\n",
    "LSVKKYPKYVVQ\n",
    "\n",
    "SSVKKYPKYSVL\n",
    "\n",
    "##### Count the frequencies fa for all amino acids in the alignment and fab for all amino acid pairs occurring in the same column of the alignment. (For the pairs, do not consider the order of the amino acids: do not distinguish between VS and SV, for example). From these values, calculate the relative frequencies pa for each occurring amino acid and pab for each occurring amino acid pair. Finally, calculate the expected probability and the score for each amino acid pair. Fill your results into the given tables."
   ]
  },
  {
   "cell_type": "code",
   "execution_count": 2,
   "metadata": {},
   "outputs": [
    {
     "data": {
      "text/plain": [
       "[['T', 'S', 'V', 'K', 'T', 'Y', 'A', 'K', 'F', 'V', 'T', 'H'],\n",
       " ['T', 'S', 'V', 'K', 'T', 'Y', 'A', 'K', 'F', 'S', 'T', 'H'],\n",
       " ['T', 'S', 'V', 'K', 'T', 'Y', 'A', 'K', 'F', 'V', 'T', 'H'],\n",
       " ['L', 'S', 'V', 'K', 'K', 'Y', 'P', 'K', 'Y', 'V', 'V', 'Q'],\n",
       " ['S', 'S', 'V', 'K', 'K', 'Y', 'P', 'K', 'Y', 'S', 'V', 'L']]"
      ]
     },
     "execution_count": 2,
     "metadata": {},
     "output_type": "execute_result"
    }
   ],
   "source": [
    "seq1='TSVKTYAKFVTH'\n",
    "seq2='TSVKTYAKFSTH'\n",
    "seq3='TSVKTYAKFVTH'\n",
    "seq4='LSVKKYPKYVVQ'\n",
    "seq5='SSVKKYPKYSVL'\n",
    "\n",
    "sequences=[seq1,seq2,seq3,seq4,seq5]\n",
    "\n",
    "matrix=[[char for char in seq] for seq in sequences]\n",
    "matrix"
   ]
  },
  {
   "cell_type": "code",
   "execution_count": 3,
   "metadata": {},
   "outputs": [
    {
     "data": {
      "text/html": [
       "<div>\n",
       "<style scoped>\n",
       "    .dataframe tbody tr th:only-of-type {\n",
       "        vertical-align: middle;\n",
       "    }\n",
       "\n",
       "    .dataframe tbody tr th {\n",
       "        vertical-align: top;\n",
       "    }\n",
       "\n",
       "    .dataframe thead th {\n",
       "        text-align: right;\n",
       "    }\n",
       "</style>\n",
       "<table border=\"1\" class=\"dataframe\">\n",
       "  <thead>\n",
       "    <tr style=\"text-align: right;\">\n",
       "      <th></th>\n",
       "      <th>T</th>\n",
       "      <th>L</th>\n",
       "      <th>S</th>\n",
       "      <th>V</th>\n",
       "      <th>K</th>\n",
       "      <th>Y</th>\n",
       "      <th>A</th>\n",
       "      <th>P</th>\n",
       "      <th>F</th>\n",
       "      <th>H</th>\n",
       "      <th>Q</th>\n",
       "    </tr>\n",
       "  </thead>\n",
       "  <tbody>\n",
       "    <tr>\n",
       "      <th>fa</th>\n",
       "      <td>9.00</td>\n",
       "      <td>2.000000</td>\n",
       "      <td>8.000000</td>\n",
       "      <td>10.000000</td>\n",
       "      <td>12.0</td>\n",
       "      <td>7.000000</td>\n",
       "      <td>3.00</td>\n",
       "      <td>2.000000</td>\n",
       "      <td>3.00</td>\n",
       "      <td>3.00</td>\n",
       "      <td>1.000000</td>\n",
       "    </tr>\n",
       "    <tr>\n",
       "      <th>pa</th>\n",
       "      <td>0.15</td>\n",
       "      <td>0.033333</td>\n",
       "      <td>0.133333</td>\n",
       "      <td>0.166667</td>\n",
       "      <td>0.2</td>\n",
       "      <td>0.116667</td>\n",
       "      <td>0.05</td>\n",
       "      <td>0.033333</td>\n",
       "      <td>0.05</td>\n",
       "      <td>0.05</td>\n",
       "      <td>0.016667</td>\n",
       "    </tr>\n",
       "  </tbody>\n",
       "</table>\n",
       "</div>"
      ],
      "text/plain": [
       "       T         L         S          V     K         Y     A         P     F  \\\n",
       "fa  9.00  2.000000  8.000000  10.000000  12.0  7.000000  3.00  2.000000  3.00   \n",
       "pa  0.15  0.033333  0.133333   0.166667   0.2  0.116667  0.05  0.033333  0.05   \n",
       "\n",
       "       H         Q  \n",
       "fa  3.00  1.000000  \n",
       "pa  0.05  0.016667  "
      ]
     },
     "execution_count": 3,
     "metadata": {},
     "output_type": "execute_result"
    }
   ],
   "source": [
    "import pandas as pd\n",
    "data={}\n",
    "names=['T','L', 'S', 'V', 'K','Y', 'A', 'P', 'F', 'H', 'Q']\n",
    "number_aa=len(matrix[0])*len(matrix)\n",
    "for i in range(len(names)):\n",
    "    aa=names[i]\n",
    "    freq=0\n",
    "    for j in range(len(matrix)): \n",
    "        freq+=matrix[j].count(aa)\n",
    "    data[names[i]]=[freq,freq/number_aa]\n",
    "frequencies=pd.DataFrame(data,index=['fa','pa'])\n",
    "frequencies"
   ]
  },
  {
   "cell_type": "code",
   "execution_count": 4,
   "metadata": {},
   "outputs": [
    {
     "data": {
      "text/plain": [
       "{'TT': 9,\n",
       " 'LT': 3,\n",
       " 'ST': 3,\n",
       " 'LS': 1,\n",
       " 'SS': 11,\n",
       " 'VV': 14,\n",
       " 'KK': 21,\n",
       " 'KT': 6,\n",
       " 'YY': 11,\n",
       " 'AA': 3,\n",
       " 'AP': 6,\n",
       " 'PP': 1,\n",
       " 'FF': 3,\n",
       " 'YF': 6,\n",
       " 'SV': 6,\n",
       " 'VT': 6,\n",
       " 'HH': 3,\n",
       " 'HQ': 3,\n",
       " 'LH': 3,\n",
       " 'LQ': 1}"
      ]
     },
     "execution_count": 4,
     "metadata": {},
     "output_type": "execute_result"
    }
   ],
   "source": [
    "from itertools import combinations\n",
    "fab={}\n",
    "for i in range(len(matrix[0])):\n",
    "    letters=''\n",
    "    for n in range(len(matrix)):\n",
    "        letters+=matrix[n][i]\n",
    "    combi=combinations(letters,2)\n",
    "    for com in combi:\n",
    "        c=set(com)\n",
    "        if len(c)==1:\n",
    "            ind=\"\".join(map(str,c))\n",
    "            ind*=2\n",
    "            if ind not in fab.keys():\n",
    "                fab[ind]=1\n",
    "            else:\n",
    "                fab[ind]+=1\n",
    "        else:\n",
    "            ind=\"\".join(map(str,c))\n",
    "            if ind not in fab.keys():\n",
    "                fab[ind]=1\n",
    "            else:\n",
    "                fab[ind]+=1\n",
    "fab"
   ]
  },
  {
   "cell_type": "code",
   "execution_count": 5,
   "metadata": {},
   "outputs": [
    {
     "data": {
      "text/plain": [
       "120"
      ]
     },
     "execution_count": 5,
     "metadata": {},
     "output_type": "execute_result"
    }
   ],
   "source": [
    "number_pairwise=sum(fab.values())\n",
    "number_pairwise"
   ]
  },
  {
   "cell_type": "code",
   "execution_count": 6,
   "metadata": {},
   "outputs": [],
   "source": [
    "pab={key:(fab[key]/number_pairwise) for key in fab}"
   ]
  },
  {
   "cell_type": "code",
   "execution_count": 7,
   "metadata": {},
   "outputs": [],
   "source": [
    "eab={}\n",
    "for key in fab:\n",
    "    word=key\n",
    "    l1=word[0]\n",
    "    l2=word[0]\n",
    "    if l1==l2:\n",
    "        prob=data[l1][1]**2\n",
    "    else:\n",
    "        prob=data[l1][1]*data[l2][1]*2\n",
    "    eab[word]=prob"
   ]
  },
  {
   "cell_type": "code",
   "execution_count": 8,
   "metadata": {},
   "outputs": [],
   "source": [
    "sab={}\n",
    "from math import log2\n",
    "for key in fab:\n",
    "    score=2*log2(pab[key]/eab[key])\n",
    "    sab[key]=score"
   ]
  },
  {
   "cell_type": "code",
   "execution_count": 20,
   "metadata": {},
   "outputs": [
    {
     "data": {
      "text/html": [
       "<div>\n",
       "<style scoped>\n",
       "    .dataframe tbody tr th:only-of-type {\n",
       "        vertical-align: middle;\n",
       "    }\n",
       "\n",
       "    .dataframe tbody tr th {\n",
       "        vertical-align: top;\n",
       "    }\n",
       "\n",
       "    .dataframe thead th {\n",
       "        text-align: right;\n",
       "    }\n",
       "</style>\n",
       "<table border=\"1\" class=\"dataframe\">\n",
       "  <thead>\n",
       "    <tr style=\"text-align: right;\">\n",
       "      <th></th>\n",
       "      <th>TT</th>\n",
       "      <th>LT</th>\n",
       "      <th>ST</th>\n",
       "      <th>LS</th>\n",
       "      <th>SS</th>\n",
       "      <th>VV</th>\n",
       "      <th>KK</th>\n",
       "      <th>KT</th>\n",
       "      <th>YY</th>\n",
       "      <th>AA</th>\n",
       "      <th>AP</th>\n",
       "      <th>PP</th>\n",
       "      <th>FF</th>\n",
       "      <th>YF</th>\n",
       "      <th>SV</th>\n",
       "      <th>VT</th>\n",
       "      <th>HH</th>\n",
       "      <th>HQ</th>\n",
       "      <th>LH</th>\n",
       "      <th>LQ</th>\n",
       "    </tr>\n",
       "  </thead>\n",
       "  <tbody>\n",
       "    <tr>\n",
       "      <th>fab</th>\n",
       "      <td>9.000000</td>\n",
       "      <td>3.000000</td>\n",
       "      <td>3.000000</td>\n",
       "      <td>1.000000</td>\n",
       "      <td>11.000000</td>\n",
       "      <td>14.000000</td>\n",
       "      <td>21.000000</td>\n",
       "      <td>6.000000</td>\n",
       "      <td>11.000000</td>\n",
       "      <td>3.000000</td>\n",
       "      <td>6.000000</td>\n",
       "      <td>1.000000</td>\n",
       "      <td>3.000000</td>\n",
       "      <td>6.000000</td>\n",
       "      <td>6.000000</td>\n",
       "      <td>6.000000</td>\n",
       "      <td>3.000000</td>\n",
       "      <td>3.000000</td>\n",
       "      <td>3.000000</td>\n",
       "      <td>1.000000</td>\n",
       "    </tr>\n",
       "    <tr>\n",
       "      <th>pab</th>\n",
       "      <td>0.075000</td>\n",
       "      <td>0.025000</td>\n",
       "      <td>0.025000</td>\n",
       "      <td>0.008333</td>\n",
       "      <td>0.091667</td>\n",
       "      <td>0.116667</td>\n",
       "      <td>0.175000</td>\n",
       "      <td>0.050000</td>\n",
       "      <td>0.091667</td>\n",
       "      <td>0.025000</td>\n",
       "      <td>0.050000</td>\n",
       "      <td>0.008333</td>\n",
       "      <td>0.025000</td>\n",
       "      <td>0.050000</td>\n",
       "      <td>0.050000</td>\n",
       "      <td>0.050000</td>\n",
       "      <td>0.025000</td>\n",
       "      <td>0.025000</td>\n",
       "      <td>0.025000</td>\n",
       "      <td>0.008333</td>\n",
       "    </tr>\n",
       "    <tr>\n",
       "      <th>eab</th>\n",
       "      <td>0.022500</td>\n",
       "      <td>0.001111</td>\n",
       "      <td>0.017778</td>\n",
       "      <td>0.001111</td>\n",
       "      <td>0.017778</td>\n",
       "      <td>0.027778</td>\n",
       "      <td>0.040000</td>\n",
       "      <td>0.040000</td>\n",
       "      <td>0.013611</td>\n",
       "      <td>0.002500</td>\n",
       "      <td>0.002500</td>\n",
       "      <td>0.001111</td>\n",
       "      <td>0.002500</td>\n",
       "      <td>0.013611</td>\n",
       "      <td>0.017778</td>\n",
       "      <td>0.027778</td>\n",
       "      <td>0.002500</td>\n",
       "      <td>0.002500</td>\n",
       "      <td>0.001111</td>\n",
       "      <td>0.001111</td>\n",
       "    </tr>\n",
       "    <tr>\n",
       "      <th>sab</th>\n",
       "      <td>3.473931</td>\n",
       "      <td>8.983706</td>\n",
       "      <td>0.983706</td>\n",
       "      <td>5.813781</td>\n",
       "      <td>4.732644</td>\n",
       "      <td>4.140779</td>\n",
       "      <td>4.258566</td>\n",
       "      <td>0.643856</td>\n",
       "      <td>5.503225</td>\n",
       "      <td>6.643856</td>\n",
       "      <td>8.643856</td>\n",
       "      <td>5.813781</td>\n",
       "      <td>6.643856</td>\n",
       "      <td>3.754287</td>\n",
       "      <td>2.983706</td>\n",
       "      <td>1.695994</td>\n",
       "      <td>6.643856</td>\n",
       "      <td>6.643856</td>\n",
       "      <td>8.983706</td>\n",
       "      <td>5.813781</td>\n",
       "    </tr>\n",
       "  </tbody>\n",
       "</table>\n",
       "</div>"
      ],
      "text/plain": [
       "           TT        LT        ST        LS         SS         VV         KK  \\\n",
       "fab  9.000000  3.000000  3.000000  1.000000  11.000000  14.000000  21.000000   \n",
       "pab  0.075000  0.025000  0.025000  0.008333   0.091667   0.116667   0.175000   \n",
       "eab  0.022500  0.001111  0.017778  0.001111   0.017778   0.027778   0.040000   \n",
       "sab  3.473931  8.983706  0.983706  5.813781   4.732644   4.140779   4.258566   \n",
       "\n",
       "           KT         YY        AA        AP        PP        FF        YF  \\\n",
       "fab  6.000000  11.000000  3.000000  6.000000  1.000000  3.000000  6.000000   \n",
       "pab  0.050000   0.091667  0.025000  0.050000  0.008333  0.025000  0.050000   \n",
       "eab  0.040000   0.013611  0.002500  0.002500  0.001111  0.002500  0.013611   \n",
       "sab  0.643856   5.503225  6.643856  8.643856  5.813781  6.643856  3.754287   \n",
       "\n",
       "           SV        VT        HH        HQ        LH        LQ  \n",
       "fab  6.000000  6.000000  3.000000  3.000000  3.000000  1.000000  \n",
       "pab  0.050000  0.050000  0.025000  0.025000  0.025000  0.008333  \n",
       "eab  0.017778  0.027778  0.002500  0.002500  0.001111  0.001111  \n",
       "sab  2.983706  1.695994  6.643856  6.643856  8.983706  5.813781  "
      ]
     },
     "execution_count": 20,
     "metadata": {},
     "output_type": "execute_result"
    }
   ],
   "source": [
    "import pandas as pd\n",
    "data2={key:(fab[key],pab[key],eab[key],sab[key]) for key in fab}\n",
    "pairwise=pd.DataFrame(data2,index=['fab','pab','eab','sab'])\n",
    "pairwise"
   ]
  },
  {
   "cell_type": "code",
   "execution_count": 9,
   "metadata": {},
   "outputs": [
    {
     "name": "stdout",
     "output_type": "stream",
     "text": [
      "     Q    E    Y    C    P    A    F    W    K    R    N    D    H    G    T  \\\n",
      "Q  7.0  3.0 -3.0  1.0  0.0  2.0  0.0 -3.0  4.0  2.0  0.0 -1.0  3.0 -1.0  0.0   \n",
      "E  3.0  4.0 -4.0 -4.0  0.0  0.0 -6.0 -4.0  0.0 -2.0 -1.0  2.0 -7.0 -2.0 -2.0   \n",
      "Y -3.0 -4.0  8.0  1.0  1.0 -1.0  6.0 -4.0 -1.0  2.0  0.0  0.0  2.0  0.0  2.0   \n",
      "C  1.0 -4.0  1.0  7.0  3.0  3.0  5.0  0.0  1.0  4.0  0.0  2.0 -4.0  3.0  4.0   \n",
      "P  0.0  0.0  1.0  3.0  6.0  1.0 -3.0 -4.0 -1.0 -3.0 -2.0 -3.0 -2.0 -2.0  0.0   \n",
      "A  2.0  0.0 -1.0  3.0  1.0  5.0 -1.0 -6.0  1.0  0.0 -1.0  0.0 -1.0 -1.0  1.0   \n",
      "F  0.0 -6.0  6.0  5.0 -3.0 -1.0  6.0  0.0 -6.0  0.0 -3.0  0.0 -4.0 -4.0  0.0   \n",
      "W -3.0 -4.0 -4.0  0.0 -4.0 -6.0  0.0  9.0  2.0  0.0 -2.0 -2.0 -2.0  4.0  0.0   \n",
      "K  4.0  0.0 -1.0  1.0 -1.0  1.0 -6.0  2.0  5.0  2.0 -2.0  0.0 -4.0 -1.0  1.0   \n",
      "R  2.0 -2.0  2.0  4.0 -3.0  0.0  0.0  0.0  2.0  6.0  0.0 -1.0  0.0  1.0  1.0   \n",
      "N  0.0 -1.0  0.0  0.0 -2.0 -1.0 -3.0 -2.0 -2.0  0.0  7.0  4.0  0.0  1.0  4.0   \n",
      "D -1.0  2.0  0.0  2.0 -3.0  0.0  0.0 -2.0  0.0 -1.0  4.0  6.0 -3.0  0.0 -2.0   \n",
      "H  3.0 -7.0  2.0 -4.0 -2.0 -1.0 -4.0 -2.0 -4.0  0.0  0.0 -3.0  8.0  0.0  1.0   \n",
      "G -1.0 -2.0  0.0  3.0 -2.0 -1.0 -4.0  4.0 -1.0  1.0  1.0  0.0  0.0  6.0  0.0   \n",
      "T  0.0 -2.0  2.0  4.0  0.0  1.0  0.0  0.0  1.0  1.0  4.0 -2.0  1.0  0.0  5.0   \n",
      "S  0.0 -1.0  1.0  4.0  2.0  3.0 -1.0 -1.0  1.0  0.0  4.0  0.0  4.0  3.0  2.0   \n",
      "M -3.0 -3.0 -4.0  2.0 -5.0 -3.0 -1.0 -3.0 -6.0 -3.0 -3.0 -6.0  0.0 -3.0 -1.0   \n",
      "V  0.0 -2.0  0.0  3.0 -2.0  2.0  0.0  3.0  0.0  0.0  2.0  0.0  2.0  0.0  0.0   \n",
      "I  2.0 -3.0  1.0  2.0 -1.0  0.0  0.0 -1.0 -2.0 -1.0  2.0  0.0  4.0 -1.0  0.0   \n",
      "L  2.0 -2.0  1.0  5.0  0.0  0.0  4.0  2.0 -4.0  1.0 -1.0  0.0  2.0  1.0 -1.0   \n",
      "\n",
      "     S    M    V    I    L  \n",
      "Q  0.0 -3.0  0.0  2.0  2.0  \n",
      "E -1.0 -3.0 -2.0 -3.0 -2.0  \n",
      "Y  1.0 -4.0  0.0  1.0  1.0  \n",
      "C  4.0  2.0  3.0  2.0  5.0  \n",
      "P  2.0 -5.0 -2.0 -1.0  0.0  \n",
      "A  3.0 -3.0  2.0  0.0  0.0  \n",
      "F -1.0 -1.0  0.0  0.0  4.0  \n",
      "W -1.0 -3.0  3.0 -1.0  2.0  \n",
      "K  1.0 -6.0  0.0 -2.0 -4.0  \n",
      "R  0.0 -3.0  0.0 -1.0  1.0  \n",
      "N  4.0 -3.0  2.0  2.0 -1.0  \n",
      "D  0.0 -6.0  0.0  0.0  0.0  \n",
      "H  4.0  0.0  2.0  4.0  2.0  \n",
      "G  3.0 -3.0  0.0 -1.0  1.0  \n",
      "T  2.0 -1.0  0.0  0.0 -1.0  \n",
      "S  5.0 -4.0 -1.0 -2.0  0.0  \n",
      "M -4.0  9.0  5.0  4.0  7.0  \n",
      "V -1.0  5.0  5.0  3.0  2.0  \n",
      "I -2.0  4.0  3.0  6.0  4.0  \n",
      "L  0.0  7.0  2.0  4.0  5.0  \n"
     ]
    }
   ],
   "source": [
    "%run blosum.py alignment.dat"
   ]
  },
  {
   "cell_type": "markdown",
   "metadata": {},
   "source": [
    "#### Ex.3 (13 pts) Global/local alignment\n",
    "##### (a) (5 pts) Implement the Needleman-Wunsch algorithm: Write a program called needle.py that takes 4 parameters and should be called like python needle.py -8 blosum.txt sequence1.fasta sequence2.fasta, where -8 is the gap penalty w, blosum.txt is a text file containing the scoring matrix and sequence1.fasta and sequence2.fasta are two amino acid sequences in Fasta format. The program should output the score of the alignment and the aligned sequences, i.e. the sequences plus the gaps (represented by the symbol -).\n",
    "+ Note that you will need to write a function that is able to read in a scoring matrix from a text file and store it in a suitable data structure.\n",
    "+ Test your program using the scoring matrix blosum62.dat and a gap penalty of -5 on the sequences\n",
    "THRQATWQPPLERMANGRQVE and RAYMQNDLVKVRYYACHT"
   ]
  },
  {
   "cell_type": "code",
   "execution_count": 1,
   "metadata": {},
   "outputs": [
    {
     "name": "stdout",
     "output_type": "stream",
     "text": [
      "-16 {'Sequence A: ': 'THRQATWQPPLERMANGRQVE', 'Sequence B: ': '--R-AYMQNDLVKVRYYACHT'}\n"
     ]
    }
   ],
   "source": [
    "%run needle.py THRQATWQPPLERMANGRQVE RAYMQNDLVKVRYYACHT -5 blosum62.txt"
   ]
  },
  {
   "cell_type": "markdown",
   "metadata": {},
   "source": [
    "##### (b) (2pts) Formatted output. \n",
    "##### Modify the output of the alignment so that sequence 1 appears in the first line and sequence 2 in the third line while the second line contains symbols reflecting the similarity between aligned symbols: | for identical residues, : for conservative substitutions (positive score in scoringmatrix) and spaces otherwise. Break the output into multiple lines of about 80 characters so that alignment of long sequences is displayed properly."
   ]
  },
  {
   "cell_type": "code",
   "execution_count": 2,
   "metadata": {},
   "outputs": [
    {
     "name": "stdout",
     "output_type": "stream",
     "text": [
      "Score = -16\n",
      "THRQATWQPPLERMANGRQVE\n",
      "  | |  |  | ::       \n",
      "--R-AYMQNDLVKVRYYACHT\n",
      "Sequence identity = 19.05 %, Sequence similarity = 28.57 %\n"
     ]
    }
   ],
   "source": [
    "%run needle_modified.py THRQATWQPPLERMANGRQVE RAYMQNDLVKVRYYACHT -5 blosum62.txt"
   ]
  },
  {
   "cell_type": "code",
   "execution_count": 11,
   "metadata": {},
   "outputs": [
    {
     "name": "stdout",
     "output_type": "stream",
     "text": [
      "Score = -1\n",
      "ELVISISALIVE\n",
      "  |: ||    :\n",
      "PAVL-ISD-EAD\n",
      "Sequence identity = 25.0 %, Sequence similarity = 41.67 %\n"
     ]
    }
   ],
   "source": [
    "%run needle_modified.py ELVISISALIVE PAVLISDEAD -5 blosum62.txt"
   ]
  },
  {
   "cell_type": "markdown",
   "metadata": {},
   "source": [
    "##### (c) (2pts) Testing.\n",
    "##### Perform all pairwise sequence alignments between sequences RNAS1_horse.fasta, RNAS1_minke-whale.fasta, and RNAS1_red-kangaroo.fasta using blosum50.dat and a gap penalty of -8. What can you conclude about the pairwise relationships?"
   ]
  },
  {
   "cell_type": "code",
   "execution_count": 3,
   "metadata": {},
   "outputs": [
    {
     "name": "stdout",
     "output_type": "stream",
     "text": [
      "Score = 683\n",
      "KESPAMKFERQHMDSGSTSSSNPTYCNQMMKRRNMTQGWCKPVNTFVHEPLADVQAICLQKNITCKNGQSNCYQSSSSMH\n",
      ":|||||||:|||||||::  :|| |||||| || |||| |||||||||| | ||:|:| |||: ||||::|||:|:|:||\n",
      "RESPAMKFQRQHMDSGNSPGNNPNYCNQMMMRRKMTQGRCKPVNTFVHESLEDVKAVCSQKNVLCKNGRTNCYESNSTMH\n",
      "ITDCRLTSGSKYPNCAYQTSQKERHIIVACEGNPYVPVHFDASVEVST\n",
      "||||| |  ||||||||:|||||:||||||||||||||||| |  |  \n",
      "ITDCRQTGSSKYPNCAYKTSQKEKHIIVACEGNPYVPVHFDNS--V--\n",
      "Sequence identity = 74.22 %, Sequence similarity = 85.94 %\n"
     ]
    }
   ],
   "source": [
    "%run needle_modified.py RNAS1_horse.fasta RNAS1_minke-whale.fasta -8 blosum50.txt"
   ]
  },
  {
   "cell_type": "code",
   "execution_count": 4,
   "metadata": {},
   "outputs": [
    {
     "name": "stdout",
     "output_type": "stream",
     "text": [
      "Score = 521\n",
      "KESPAMKFERQHMDSGSTSSSNPTYCNQMMKRRNMTQGWCKPVNTFVHEPLADVQAICLQKNITCKNGQSNCYQSSSSMH\n",
      " |:|| ||:|||||:  :::|:  ||| ||| |:|| | |||:|||:||| : | |:| |:|:|||||::|||:|:| : \n",
      "-ETPAEKFQRQHMDTEHSTASSSNYCNLMMKARDMTSGRCKPLNTFIHEPKSVVDAVCHQENVTCKNGRTNCYKSNSRLS\n",
      "ITDCRLTSGSKYPNCAYQTSQKERHIIVACEGNPYVPVHFDASVEVST\n",
      "||:|| |  |||||| |:||   ::|||||||  ||||||||   |  \n",
      "ITNCRQTGASKYPNCQYETSNLNKQIIVACEGQ-YVPVHFDA-Y-V--\n",
      "Sequence identity = 58.59 %, Sequence similarity = 76.56 %\n"
     ]
    }
   ],
   "source": [
    "%run needle_modified.py RNAS1_horse.fasta RNAS1_red-kangaroo.fasta -8 blosum50.txt"
   ]
  },
  {
   "cell_type": "code",
   "execution_count": 5,
   "metadata": {},
   "outputs": [
    {
     "name": "stdout",
     "output_type": "stream",
     "text": [
      "Score = 572\n",
      "RESPAMKFQRQHMDSGNSPGNNPNYCNQMMMRRKMTQGRCKPVNTFVHESLEDVKAVCSQKNVLCKNGRTNCYESNSTMH\n",
      " |:|| ||||||||: :|  :: |||| ||  | || |||||:|||:||    | ||| |:|| |||||||||:||| : \n",
      "-ETPAEKFQRQHMDTEHSTASSSNYCNLMMKARDMTSGRCKPLNTFIHEPKSVVDAVCHQENVTCKNGRTNCYKSNSRLS\n",
      "ITDCRQTGSSKYPNCAYKTSQKEKHIIVACEGNPYVPVHFDNSV\n",
      "||:|||||:|||||| |:||   |:|||||||  |||||||  |\n",
      "ITNCRQTGASKYPNCQYETSNLNKQIIVACEGQ-YVPVHFDAYV\n",
      "Sequence identity = 66.13 %, Sequence similarity = 77.42 %\n"
     ]
    }
   ],
   "source": [
    "%run needle_modified.py RNAS1_minke-whale.fasta RNAS1_red-kangaroo.fasta -8 blosum50.txt"
   ]
  },
  {
   "cell_type": "markdown",
   "metadata": {},
   "source": [
    "In general, the alignment with the highest score implies the closest relationship of the sequences. A higher score means that the two sequences have higher identities and conservative mismatches. From the scores that are calculated for the first part of the sequences it can be seen that the horse and the whale are more related than horse and kangaroo or whale and kangaroo. In the three alignments it can be seen that the two sequences have a lot of matching residues which yield high positive scores. This can also be seen in the high sequence identities of the sequences. "
   ]
  },
  {
   "cell_type": "markdown",
   "metadata": {},
   "source": [
    "##### (d) (2pt) Smith-Waterman.\n",
    "##### Implement the Smith-Waterman algorithm by modifying the code from needle.py. In addition to the alignmentscore you should output the sequence similarity and the sequence identity of the two aligned sequences in percent. Sequence identity is the percentage of matching residues relative to the length of the aligned sequences including gaps, sequence similarity is the percentage of matched similar residues (i.e.,those with a positive value in the scoring matrix) relative to the length of the aligned sequences including gaps."
   ]
  },
  {
   "cell_type": "code",
   "execution_count": 6,
   "metadata": {},
   "outputs": [
    {
     "name": "stdout",
     "output_type": "stream",
     "text": [
      "Score = 13\n",
      "MAN\n",
      "| |\n",
      "MQN\n",
      "Sequence identity= 66.67 %, Sequence similarity= 66.67 %\n"
     ]
    }
   ],
   "source": [
    "%run smith.py THRQATWQPPLERMANGRQVE RAYMQNDLVKVRYYACHT -8 blosum50.txt"
   ]
  },
  {
   "cell_type": "code",
   "execution_count": 7,
   "metadata": {},
   "outputs": [
    {
     "name": "stdout",
     "output_type": "stream",
     "text": [
      "Score = 715\n",
      "KESPAMKFERQHMDSGSTSSSNPTYCNQMMKRRNMTQGWCKPVNTFVHEPLADVQAICLQKNITCKNGQSNCYQSSSSMH\n",
      ":|||||||:|||||||::  :|| |||||| || |||| |||||||||| | ||:|:| |||: ||||::|||:|:|:||\n",
      "RESPAMKFQRQHMDSGNSPGNNPNYCNQMMMRRKMTQGRCKPVNTFVHESLEDVKAVCSQKNVLCKNGRTNCYESNSTMH\n",
      "ITDCRLTSGSKYPNCAYQTSQKERHIIVACEGNPYVPVHFDASV\n",
      "||||| |  ||||||||:|||||:||||||||||||||||| ||\n",
      "ITDCRQTGSSKYPNCAYKTSQKEKHIIVACEGNPYVPVHFDNSV\n",
      "Sequence identity= 76.61 %, Sequence similarity= 88.71 %\n"
     ]
    }
   ],
   "source": [
    "%run smith.py RNAS1_horse.fasta RNAS1_minke-whale.fasta -8 blosum50.txt"
   ]
  },
  {
   "cell_type": "code",
   "execution_count": 8,
   "metadata": {},
   "outputs": [
    {
     "name": "stdout",
     "output_type": "stream",
     "text": [
      "Score = 554\n",
      "SPAMKFERQHMDSGSTSSSNPTYCNQMMKRRNMTQGWCKPVNTFVHEPLADVQAICLQKNITCKNGQSNCYQSSSSMHIT\n",
      ":|| ||:|||||:  :::|:  ||| ||| |:|| | |||:|||:||| : | |:| |:|:|||||::|||:|:| : ||\n",
      "TPAEKFQRQHMDTEHSTASSSNYCNLMMKARDMTSGRCKPLNTFIHEPKSVVDAVCHQENVTCKNGRTNCYKSNSRLSIT\n",
      "DCRLTSGSKYPNCAYQTSQKERHIIVACEGNPYVPVHFDASV\n",
      ":|| |  |||||| |:||   ::|||||||  |||||||| |\n",
      "NCRQTGASKYPNCQYETSNLNKQIIVACEGQ-YVPVHFDAYV\n",
      "Sequence identity= 60.66 %, Sequence similarity= 79.51 %\n"
     ]
    }
   ],
   "source": [
    "%run smith.py RNAS1_horse.fasta RNAS1_red-kangaroo.fasta -8 blosum50.txt"
   ]
  },
  {
   "cell_type": "code",
   "execution_count": 9,
   "metadata": {},
   "outputs": [
    {
     "name": "stdout",
     "output_type": "stream",
     "text": [
      "Score = 574\n",
      "SPAMKFQRQHMDSGNSPGNNPNYCNQMMMRRKMTQGRCKPVNTFVHESLEDVKAVCSQKNVLCKNGRTNCYESNSTMHIT\n",
      ":|| ||||||||: :|  :: |||| ||  | || |||||:|||:||    | ||| |:|| |||||||||:||| : ||\n",
      "TPAEKFQRQHMDTEHSTASSSNYCNLMMKARDMTSGRCKPLNTFIHEPKSVVDAVCHQENVTCKNGRTNCYKSNSRLSIT\n",
      "DCRQTGSSKYPNCAYKTSQKEKHIIVACEGNPYVPVHFDNSV\n",
      ":|||||:|||||| |:||   |:|||||||  |||||||  |\n",
      "NCRQTGASKYPNCQYETSNLNKQIIVACEGQ-YVPVHFDAYV\n",
      "Sequence identity= 66.39 %, Sequence similarity= 77.87 %\n"
     ]
    }
   ],
   "source": [
    "%run smith.py RNAS1_minke-whale.fasta RNAS1_red-kangaroo.fasta -8 blosum50.txt"
   ]
  },
  {
   "cell_type": "markdown",
   "metadata": {},
   "source": [
    "In the calculation of the alignment matrix, the local alignment algorithm takes the maximum from the match/mismatch, the two possible gaps and 0. Like this, high negative scores are avoided. Due to this, parts of the sequences didn't evolve from one another, are not aligned with each other. This makes the local alignment more reliable. The scores from the tested alignments are higher than the respective scores from the global alignments. In the local alignments, the sequence similarity and identity should also be higher than in global alignments. "
   ]
  },
  {
   "cell_type": "markdown",
   "metadata": {},
   "source": [
    "##### (e) (2pt) Testing\n",
    "##### Run a global and a local sequence alignment on the sequences halodurans.fasta and lentus.fasta using blosum62.txt and a gap penalty of -8. Which is more appropriate?"
   ]
  },
  {
   "cell_type": "code",
   "execution_count": 10,
   "metadata": {},
   "outputs": [
    {
     "name": "stdout",
     "output_type": "stream",
     "text": [
      "Score = 915\n",
      "QTVPWGISFINTQQAHNRGIFGNGARVAVLDTGIASHPDLRIAGGASFISSEPSYHDNNGHGTHVAGTIAALNNSIGVLG\n",
      "|:|||||| :    |||||: |:| :||||||||::|||| | |||||:  |||  | ||||||||||||||||||||||\n",
      "QSVPWGISRVQAPAAHNRGLTGSGVKVAVLDTGISTHPDLNIRGGASFVPGEPSTQDGNGHGTHVAGTIAALNNSIGVLG\n",
      "VAPSADLYAVKVLDRNGSGSLASVAQGIEWAINNNMHIINMSLGSTSGSSTLELAVNRANNAGILLVGAAGNTGRQGVNY\n",
      "|||||:|||||||  :||||::|:|||:||| || ||: |:|||| | |:||| ||| | : |:|:| |:||:|   ::|\n",
      "VAPSAELYAVKVLGASGSGSVSSIAQGLEWAGNNGMHVANLSLGSPSPSATLEQAVNSATSRGVLVVAASGNSGAGSISY\n",
      "PARYSGVMAVAAVDQNGQRASFSTYGPEIEISAPGVNVNSTYTGNRYVSLSGTSMATPHVAGVAALVKSRYPSYTNNQIR\n",
      "||||:  ||| | |||  ||||| ||  ::| |||||| ||| |: | ||:||||||||||| ||||| : ||::| |||\n",
      "PARYANAMAVGATDQNNNRASFSQYGAGLDIVAPGVNVQSTYPGSTYASLNGTSMATPHVAGAAALVKQKNPSWSNVQIR\n",
      "QRINQTATYLGSPSLYGNGLVHAGRATQ\n",
      "  :  ||| ||| :|||:|||:|  ||:\n",
      "NHLKNTATSLGSTNLYGSGLVNAEAATR\n",
      "Sequence identity= 65.67 %, Sequence similarity= 79.48 %\n"
     ]
    }
   ],
   "source": [
    "%run smith.py halodurans.fasta lentus.fasta -8 blosum62.txt"
   ]
  },
  {
   "cell_type": "code",
   "execution_count": 25,
   "metadata": {},
   "outputs": [
    {
     "name": "stdout",
     "output_type": "stream",
     "text": [
      "Score = 187\n",
      "MRQSLKVMVLSTVALLFMANPAAASEEKKEYLIVVEPEEVSAQSVEESYDVDVIHEFEEIPVIHAELTKKELKKLKKDPN\n",
      "  |       | |       |         :             :  |                            :   \n",
      "-AQ-------S-V-------P---------W------------GI--S----------------------------R---\n",
      "VKAIEKNAEVTISQTVPWGISFINTQQAHNRGIFGNGARVAVLDTGIASHPDLRIAGGASFISSEPSYHDNNGHGTHVAG\n",
      "|   :  |        |   :      |||||: |:| :||||||||::|||| | |||||:  |||  | |||||||||\n",
      "V---Q--A--------P---A------AHNRGLTGSGVKVAVLDTGISTHPDLNIRGGASFVPGEPSTQDGNGHGTHVAG\n",
      "TIAALNNSIGVLGVAPSADLYAVKVLDRNGSGSLASVAQGIEWAINNNMHIINMSLGSTSGSSTLELAVNRANNAGILLV\n",
      "||||||||||||||||||:|||||||  :||||::|:|||:||| || ||: |:|||| | |:||| ||| | : |:|:|\n",
      "TIAALNNSIGVLGVAPSAELYAVKVLGASGSGSVSSIAQGLEWAGNNGMHVANLSLGSPSPSATLEQAVNSATSRGVLVV\n",
      "GAAGNTGRQGVNYPARYSGVMAVAAVDQNGQRASFSTYGPEIEISAPGVNVNSTYTGNRYVSLSGTSMATPHVAGVAALV\n",
      " |:||:|   ::|||||:  ||| | |||  ||||| ||  ::| |||||| ||| |: | ||:||||||||||| ||||\n",
      "AASGNSGAGSISYPARYANAMAVGATDQNNNRASFSQYGAGLDIVAPGVNVQSTYPGSTYASLNGTSMATPHVAGAAALV\n",
      "KSRYPSYTNNQIRQRINQTATYLGSPSLYGNGLVHAGRATQ\n",
      "| : ||::| |||  :  ||| ||| :|||:|||:|  ||:\n",
      "KQKNPSWSNVQIRNHLKNTATSLGSTNLYGSGLVNAEAATR\n",
      "Sequence identity = 49.03 %, Sequence similarity = 60.11 %\n"
     ]
    }
   ],
   "source": [
    "%run needle_modified.py halodurans.fasta lentus.fasta -8 blosum62.txt"
   ]
  },
  {
   "cell_type": "markdown",
   "metadata": {},
   "source": [
    "For the given sequences, the local alignment is more appropriate. The global alignment has a lower score and includes almost 100 residues with gaps (lines 1 and 2 of the alignment). The local alignment has a higher score and doesn't include the region with those many gaps. Also the sequences similarity and sequence identity is higher in the local alignment."
   ]
  },
  {
   "cell_type": "markdown",
   "metadata": {},
   "source": [
    "#### Ex.4 (Optional: 0pts) Affine gaps\n",
    "##### (a) (2pts) Modify the global sequence alignment implementation to allow affine gap penalties w(l) =d+e(l−1) according to the algorithm described above .I.e., in each step calculate the match/mismatch score and the scores for introducing gaps of varying length and choose the best score. Note that your program needs to accept an additional parameter for the gap open and extension penalty.\n",
    "##### (b) (2 pts) Testing.\n",
    "##### Perform the sequence alignment for sequences GLB7A_CHITH.fasta and GLBE_CHITH.fasta using blosum62.txt a gap open penalty of -8 and an gap extension penalty of -2. Compare this to the version using a constant gap penalty. To check your solution: In the affine case you should get a gap of length 6 that corresponds to the word ALIGNE in the other sequence."
   ]
  },
  {
   "cell_type": "code",
   "execution_count": 2,
   "metadata": {},
   "outputs": [
    {
     "name": "stdout",
     "output_type": "stream",
     "text": [
      "346\n",
      "MKFFAVLALCIVGAIASPLSADQAALVKSTWAQVRNSEVEILAAVFTAYPDIQARFPQFAGKDVASIKDTGAFATHAGRI\n",
      "|||  :|||| | | || || ||  ||:||: :|:   | || ||| | | ||| |||| |||: :||    |:||||||\n",
      "MKFI-ILALC-VAA-ASALSGDQIGLVQSTYGKVKGDSVGILYAVFKADPTIQAAFPQFVGKDLDAIKGGAEFSTHAGRI\n",
      "VGFVSEIIALIGNESNAPAVQTLVGQLAASHKARGISQAQFNEFRAGLVSYVSSNVAWNAAAESAWTAGLDNIFGLLFAA\n",
      "|||      | |   : | :   |  | |:|| ||:: |||| |||  ::|:  :| : || |:|| |  |  || :|| \n",
      "VGF------LGGVIDDLPNIGKHVDALVATHKPRGVTHAQFNNFRAAFIAYLKGHVDYTAAVEAAWGATFDAFFGAVFAK\n",
      "L\n",
      ":\n",
      "M\n",
      "Sequence identity = 49.69 %, Sequence similarity = 62.73 %\n"
     ]
    }
   ],
   "source": [
    "%run needle_affine_gaps.py GLB7A_CHITH.fasta GLBE_CHITH.fasta -8 -2 blosum62.txt"
   ]
  },
  {
   "cell_type": "markdown",
   "metadata": {},
   "source": [
    "The aligment function with affine gap penalties finds a gap of length 6 as given in the task, but it is shifted by 5 residues. "
   ]
  },
  {
   "cell_type": "code",
   "execution_count": 27,
   "metadata": {},
   "outputs": [
    {
     "name": "stdout",
     "output_type": "stream",
     "text": [
      "Score = 326\n",
      "MKFFAVLALCIVGAIASPLSADQAALVKSTWAQVRNSEVEILAAVFTAYPDIQARFPQFAGKDVASIKDTGAFATHAGRI\n",
      "|||  :|||| | | || || ||  ||:||: :|:   | || ||| | | ||| |||| |||: :||    |:||||||\n",
      "MKFI-ILALC-VAA-ASALSGDQIGLVQSTYGKVKGDSVGILYAVFKADPTIQAAFPQFVGKDLDAIKGGAEFSTHAGRI\n",
      "VGFVSEIIALIGNESNAPAVQTLVGQLAASHKARGISQAQFNEFRAGLVSYVSSNVAWNAAAESAWTAGLDNIFGLLFAA\n",
      "|||:     :|  : : | :   |  | |:|| ||:: |||| |||  ::|:  :| : || |:|| |  |  || :|| \n",
      "VGFLG---GVI--D-DLPNIGKHVDALVATHKPRGVTHAQFNNFRAAFIAYLKGHVDYTAAVEAAWGATFDAFFGAVFAK\n",
      "L\n",
      ":\n",
      "M\n",
      "Sequence identity = 49.07 %, Sequence similarity = 63.98 %\n"
     ]
    }
   ],
   "source": [
    "%run needle_modified.py GLB7A_CHITH.fasta GLBE_CHITH.fasta -8 blosum62.txt"
   ]
  },
  {
   "cell_type": "code",
   "execution_count": null,
   "metadata": {},
   "outputs": [],
   "source": []
  }
 ],
 "metadata": {
  "kernelspec": {
   "display_name": "Python 3",
   "language": "python",
   "name": "python3"
  },
  "language_info": {
   "codemirror_mode": {
    "name": "ipython",
    "version": 3
   },
   "file_extension": ".py",
   "mimetype": "text/x-python",
   "name": "python",
   "nbconvert_exporter": "python",
   "pygments_lexer": "ipython3",
   "version": "3.8.8"
  }
 },
 "nbformat": 4,
 "nbformat_minor": 2
}
