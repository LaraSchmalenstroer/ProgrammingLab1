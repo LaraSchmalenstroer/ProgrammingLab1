{
 "cells": [
  {
   "cell_type": "markdown",
   "metadata": {},
   "source": [
    "# Programming Lab 1 \n",
    "\n",
    "## Handout 2 \n",
    "\n",
    "## Lara Schmalenstroer (s0laschm@uni-bonn.de)\n",
    "\n",
    "### Excercise 1: (4 pts) One hundred ways to get to one hundred (more or less)\n",
    "\n",
    "#### Write a program that outputs all possibilities to generate the number 100 from the digits 1; 2; 3; 4; 5; 6; 7; 8; 9 (in that order) either by putting a '+',  '-', '*', */', '=', or nothing between the digits, e.g. 1 + 2 + 3 - 4 + 5 + 6 + 78 + 9 = 100 or 1 + 23 * 4+ 56 / 7 +8 - 9 = 100. Usual arithmetic rules apply. How many possibilities exist? \n",
    "\n",
    "#### Hint: You can construct all possible expressions as strings and use the eval function. You might also want to at least look at the itertools module of Python, specifically the combinatoric generators to avoid deeply nested loops. Don't forget: recursion is also (always) a possibility. . ."
   ]
  },
  {
   "cell_type": "code",
   "execution_count": 2,
   "metadata": {},
   "outputs": [],
   "source": [
    "from itertools import product\n",
    "\n",
    "def ways_to_calculate_100():\n",
    "    '''Calculates the number of possibilities to calculate 100 out of the digits 1 to 9 without\n",
    "    changing their order and connecting them with artihmetic operators (+,-,*,/) or nothing. Returns\n",
    "    the number of possibilities and a list of the possibilities'''\n",
    "    counter=0\n",
    "    list_possibilities=[]\n",
    "    list_1=['1+','1-','1/','1*','1']\n",
    "    list_2=['2+','2-','2/','2*','2']\n",
    "    list_3=['3+','3-','3/','3*','3']\n",
    "    list_4=['4+','4-','4/','4*','4']\n",
    "    list_5=['5+','5-','5/','5*','5']\n",
    "    list_6=['6+','6-','6/','6*','6']\n",
    "    list_7=['7+','7-','7/','7*','7']\n",
    "    list_8=['8+','8-','8/','8*','8']\n",
    "    list_9=['9']\n",
    "    comb=product(list_1,list_2,list_3,list_4,list_5,list_6,list_7,list_8,list_9)\n",
    "    for element in comb:\n",
    "        string=''.join(element)\n",
    "        if eval(string)==100:\n",
    "            counter+=1\n",
    "            list_possibilities.append(string)\n",
    "    return counter,list_possibilities"
   ]
  },
  {
   "cell_type": "code",
   "execution_count": 3,
   "metadata": {},
   "outputs": [],
   "source": [
    "number,possibilities=ways_to_calculate_100()"
   ]
  },
  {
   "cell_type": "code",
   "execution_count": 4,
   "metadata": {},
   "outputs": [
    {
     "data": {
      "text/plain": [
       "101"
      ]
     },
     "execution_count": 4,
     "metadata": {},
     "output_type": "execute_result"
    }
   ],
   "source": [
    "number"
   ]
  },
  {
   "cell_type": "code",
   "execution_count": 5,
   "metadata": {},
   "outputs": [
    {
     "name": "stdout",
     "output_type": "stream",
     "text": [
      "['1+2+3+4+5+6+7+8*9', '1+2+3-4+5+6+78+9', '1+2+3-4*5+6*7+8*9', '1+2+3-45+67+8*9', '1+2+3*4-5-6+7+89', '1+2+3*4*5/6+78+9', '1+2+3*4*56/7-8+9', '1+2+34-5+67-8+9', '1+2+34*5+6-7-8*9', '1+2-3*4+5*6+7+8*9', '1+2-3*4-5+6*7+8*9', '1+2*3+4+5+67+8+9', '1+2*3+4*5-6+7+8*9', '1+2*3-4+56/7+89', '1+2*3-4-5+6+7+89', '1+2*3*4*5/6+7+8*9', '1+2*34-56+78+9', '1+23-4+5+6+78-9', '1+23-4+56+7+8+9', '1+23-4+56/7+8*9', '1+23-4-5+6+7+8*9', '1+23*4+5-6+7-8+9', '1+23*4+56/7+8-9', '1+23*4-5+6+7+8-9', '1+234-56-7-8*9', '1+234*5/6-7-89', '1+234*5*6/78+9', '1-2+3+45+6+7*8-9', '1-2+3*4+5+67+8+9', '1-2+3*4*5+6*7+8-9', '1-2+3*4*5-6+7*8-9', '1-2-3+4*5+67+8+9', '1-2-3+4*56/7+8*9', '1-2-3+45+6*7+8+9', '1-2-3+45-6+7*8+9', '1-2-3+45-6-7+8*9', '1-2-34+56+7+8*9', '1-2*3+4*5+6+7+8*9', '1-2*3-4+5*6+7+8*9', '1-2*3-4-5+6*7+8*9', '1-23+4*5+6+7+89', '1-23-4+5*6+7+89', '1-23-4-5+6*7+89', '1/2/3*456+7+8+9', '1/2*3/4*56+7+8*9', '1/2*34-5+6-7+89', '1*2+3+4*5+6+78-9', '1*2+3+45+67-8-9', '1*2+3-4+5*6+78-9', '1*2+3*4+5-6+78+9', '1*2+34+5+6*7+8+9', '1*2+34+5-6+7*8+9', '1*2+34+5-6-7+8*9', '1*2+34+56+7-8+9', '1*2+34-56/7+8*9', '1*2-3+4+56/7+89', '1*2-3+4-5+6+7+89', '1*2-3+4*5-6+78+9', '1*2/3+4*5/6+7+89', '1*2*3+4+5+6+7+8*9', '1*2*3-4+5+6+78+9', '1*2*3-4*5+6*7+8*9', '1*2*3-45+67+8*9', '1*2*3*4+5+6+7*8+9', '1*2*3*4+5+6-7+8*9', '1*2*3*4-5-6+78+9', '1*2*34+56-7-8-9', '1*23+4+5+67-8+9', '1*23+4+56/7*8+9', '1*23-4+5-6-7+89', '1*23-4-56/7+89', '1*23*4-56/7/8+9', '1*234+5-67-8*9', '12+3+4+5-6-7+89', '12+3+4-56/7+89', '12+3-4+5+67+8+9', '12+3*4+5+6+7*8+9', '12+3*4+5+6-7+8*9', '12+3*4-5-6+78+9', '12+3*45+6*7-89', '12+34+5*6+7+8+9', '12+34-5+6*7+8+9', '12+34-5-6+7*8+9', '12+34-5-6-7+8*9', '12-3+4*5+6+7*8+9', '12-3+4*5+6-7+8*9', '12-3-4+5-6+7+89', '12-3-4+5*6+7*8+9', '12-3-4+5*6-7+8*9', '12/3+4*5-6-7+89', '12/3+4*5*6-7-8-9', '12/3+4*5*6*7/8-9', '12/3/4+5*6+78-9', '12*3-4+5-6+78-9', '12*3-4-5-6+7+8*9', '12*3-4*5+67+8+9', '123+4-5+67-89', '123+4*5-6*7+8-9', '123+45-67+8-9', '123-4-5-6-7+8-9', '123-45-67+89']\n"
     ]
    }
   ],
   "source": [
    "print(possibilities)"
   ]
  },
  {
   "cell_type": "markdown",
   "metadata": {},
   "source": [
    "### Ex. 2 (7 pts) Eight queens\n",
    "#### The game of chess is played on a checkered board consisting of 64 squares arranged on an 8 by 8 grid. Different types of pieces are placed on the board, each of which is allowed different types of moves. A piece can capture another piece (which is subsequently removed from the board) if it can move to the square occupied by the other piece in a single turn. Here, we are not really interested in the rules of the game, instead, we are only interested in the movements of the piece called queen. The queen is the most powerful piece in chess, it can move along the board in any direction, horizontally, vertically one or more squares. Thus any other piece placed in a straight horizontal, vertical, or diagonal line (with no intervening pieces) can be captured by the queen. The \"eight queens\" problem asks you to place as many queens as possible on a chessboard so that no queen can capture any other queen. (Note, that there cannot be more than 8 queens on an 8 by 8 chessboard, as this requires at least one row and column to contain more than one queen, each of which would be able to capture the other.)\n",
    "##### (a) (4 pts) Write a program that finds and prints a solution for the eight queens problem, placing eight queens on the board in such a way that no queen can capture any other. (In chess, columns are labeled a to h (left to right) and rows 1 to 8 (bottom to top). You can print the positions as a1, b5, c3, . . . for the eight queens.)\n",
    "##### Hint: Note, that there has to be exactly one queen in each of the columns. Thus, you can represent the positions of n queens by a list/tuple of n numbers. The first number indicates the row for the queen in column a, the second indicates the row for the queen in column b, and so on."
   ]
  },
  {
   "cell_type": "markdown",
   "metadata": {},
   "source": [
    "To solve this excercise I worked together with Marie Keller"
   ]
  },
  {
   "cell_type": "code",
   "execution_count": 7,
   "metadata": {},
   "outputs": [],
   "source": [
    "def place_queens(n):\n",
    "    '''Finds a solution to the problem of placing n queens on an n*n chessboard so that no queen \n",
    "    can attack another queen. Returns one possible solution.'''\n",
    "    letters='abcdefghijklmnopqrstuvwxyz'\n",
    "    from itertools import permutations\n",
    "    chessboard=[i for i in range(n)]\n",
    "    list_per=permutations(chessboard,n)\n",
    "    possibilities=[]\n",
    "    for element in list_per:\n",
    "        positions=list(element)\n",
    "        set1={positions[i]+i for i in range(len(positions))}\n",
    "        set2={positions[i]-i for i in range(len(positions))}\n",
    "        if len(set1)==len(set2)==n:\n",
    "            possibilities.append(positions)\n",
    "    solution={letters[i]:possibilities[0][i] for i in range(len(possibilities[0]))}\n",
    "    return solution"
   ]
  },
  {
   "cell_type": "code",
   "execution_count": 8,
   "metadata": {},
   "outputs": [
    {
     "data": {
      "text/plain": [
       "{'a': 0, 'b': 4, 'c': 7, 'd': 5, 'e': 2, 'f': 6, 'g': 1, 'h': 3}"
      ]
     },
     "execution_count": 8,
     "metadata": {},
     "output_type": "execute_result"
    }
   ],
   "source": [
    "place_queens(8)"
   ]
  },
  {
   "cell_type": "markdown",
   "metadata": {},
   "source": [
    "##### (b) (0 pts) Make sure your program is able to also solve the more general problem of placing n queens on an n * n board."
   ]
  },
  {
   "cell_type": "code",
   "execution_count": 9,
   "metadata": {},
   "outputs": [
    {
     "data": {
      "text/plain": [
       "{'a': 0, 'b': 2, 'c': 4, 'd': 1, 'e': 3}"
      ]
     },
     "execution_count": 9,
     "metadata": {},
     "output_type": "execute_result"
    }
   ],
   "source": [
    "place_queens(5)"
   ]
  },
  {
   "cell_type": "markdown",
   "metadata": {},
   "source": [
    "##### (c) (3 pts) Modify your program to find the total number of possible solutions to the n queens problem instead of a single solution. (You do not need to print all the solutions, just determine the number of possible solutions!) What is the smallest n, for which at least one solution exists? What is the smallest n, for which more than one solution exists? (For this exercise you do not need to print the individual solutions.)"
   ]
  },
  {
   "cell_type": "code",
   "execution_count": 10,
   "metadata": {},
   "outputs": [],
   "source": [
    "def solutions_queens(n):\n",
    "    '''Calculates the number of possibilities to solve the queens problem on an n*n chessboard. \n",
    "    Returns the number of possible solutions'''\n",
    "    letters='abcdefghijklmnopqrstuvwxyz'\n",
    "    from itertools import permutations\n",
    "    chessboard=[i for i in range(n)]\n",
    "    list_per=permutations(chessboard,n)\n",
    "    possibilities=[]\n",
    "    for element in list_per:\n",
    "        positions=list(element)\n",
    "        set1={positions[i]+i for i in range(len(positions))}\n",
    "        set2={positions[i]-i for i in range(len(positions))}\n",
    "        if len(set1)==len(set2)==n:\n",
    "            possibilities.append(positions)\n",
    "    return len(possibilities)"
   ]
  },
  {
   "cell_type": "code",
   "execution_count": 11,
   "metadata": {},
   "outputs": [
    {
     "name": "stdout",
     "output_type": "stream",
     "text": [
      "{1: 1, 2: 0, 3: 0, 4: 2, 5: 10, 6: 4, 7: 40}\n"
     ]
    }
   ],
   "source": [
    "solutions={}\n",
    "for i in range(1,8):\n",
    "    solutions[i]=solutions_queens(i)\n",
    "print(solutions)"
   ]
  },
  {
   "cell_type": "markdown",
   "metadata": {},
   "source": [
    "##### (d) (0 pts) Depending on your approach and implementation, you might be able to also determine the number of possible solutions for the n queens problems also for larger n > 8 in a reasonable time. How large is n allowed to be so that your implementation/algorithm finds the number of possible solution within a few seconds?"
   ]
  },
  {
   "cell_type": "code",
   "execution_count": 12,
   "metadata": {},
   "outputs": [
    {
     "name": "stdout",
     "output_type": "stream",
     "text": [
      "{9: 2.721018200000003, 10: 28.59160030000001}\n"
     ]
    }
   ],
   "source": [
    "import timeit\n",
    "t=0\n",
    "n=9\n",
    "times={}\n",
    "while t<10:\n",
    "    start = timeit.default_timer()\n",
    "    solutions_queens(n)\n",
    "    stop = timeit.default_timer()\n",
    "    t = stop - start\n",
    "    times[n]=t\n",
    "    n+=1\n",
    "print(times)"
   ]
  },
  {
   "cell_type": "markdown",
   "metadata": {},
   "source": [
    "### Ex. 3 (4 pts) Forbidden letters\n",
    "##### (a) (0 pts) Write a function named avoids that takes a word and a string of forbidden letters, and that returns True if the word doesn't use any of the forbidden letters. (See exercise 9.3 of ThinkPython)."
   ]
  },
  {
   "cell_type": "code",
   "execution_count": 13,
   "metadata": {},
   "outputs": [],
   "source": [
    "def avoids(word, string_forbidden):\n",
    "    '''Checks if any letter from a string is contained in a string. Input: word, string of forbidden\n",
    "    letters. Returns True if none of the forbidden letters is contained in the word, else False.'''\n",
    "    forbidden=set(string_forbidden)\n",
    "    word_set=set(word)\n",
    "    if word_set.intersection(forbidden)==set():\n",
    "        return True\n",
    "    return False"
   ]
  },
  {
   "cell_type": "code",
   "execution_count": 14,
   "metadata": {},
   "outputs": [
    {
     "data": {
      "text/plain": [
       "False"
      ]
     },
     "execution_count": 14,
     "metadata": {},
     "output_type": "execute_result"
    }
   ],
   "source": [
    "avoids('Hallo','a')"
   ]
  },
  {
   "cell_type": "code",
   "execution_count": 15,
   "metadata": {},
   "outputs": [
    {
     "data": {
      "text/plain": [
       "True"
      ]
     },
     "execution_count": 15,
     "metadata": {},
     "output_type": "execute_result"
    }
   ],
   "source": [
    "avoids('Hallo','b')"
   ]
  },
  {
   "cell_type": "markdown",
   "metadata": {},
   "source": [
    "##### (b) (4 pts) Write some Python code to identify a combination of 6 forbidden letters that aims to exclude the smallest number of words from the file words.txt? (Hint: You could start with the letter contained in the fewest words and go from there. Your solution does not have to find the absolute best combination of 6 letters, but your solution should be\\reasonably\" good.)"
   ]
  },
  {
   "cell_type": "markdown",
   "metadata": {},
   "source": [
    "### 1st approach \n",
    "##### Taking the 6 letters with the least frequency in the list of words "
   ]
  },
  {
   "cell_type": "markdown",
   "metadata": {},
   "source": [
    "The function finds the string of forbidden letters by calculating the frequencies of each letter. The letters with the lowest frequencies are then chosen as forbidden letters. "
   ]
  },
  {
   "cell_type": "code",
   "execution_count": 16,
   "metadata": {},
   "outputs": [],
   "source": [
    "def forbidden_letters(words):\n",
    "    '''Finds a combination of letters that excludes as little words as possible from a list of words\n",
    "    if no words containing those letters are allowed in the list.'''\n",
    "    letters=[]\n",
    "    frequencies={}\n",
    "    n=6\n",
    "    for word in words:\n",
    "        word_s=set(word)\n",
    "        for letter in word_s:\n",
    "            if letter not in frequencies.keys():\n",
    "                frequencies[letter]=0\n",
    "            frequencies[letter]+=1\n",
    "    least_used=[(key,value) for key,value in sorted(frequencies.items(), key=lambda item: item[1])]\n",
    "    string=''\n",
    "    for i in range(n):\n",
    "        le,_=least_used[i]\n",
    "        string+=le\n",
    "    return string"
   ]
  },
  {
   "cell_type": "code",
   "execution_count": 17,
   "metadata": {},
   "outputs": [],
   "source": [
    "with open(\"words.txt\", 'r') as file:\n",
    "    content=file.read()\n",
    "list_words=content.split('\\n')"
   ]
  },
  {
   "cell_type": "code",
   "execution_count": 18,
   "metadata": {},
   "outputs": [
    {
     "name": "stdout",
     "output_type": "stream",
     "text": [
      "qjxzwv\n"
     ]
    }
   ],
   "source": [
    "string=forbidden_letters(list_words)\n",
    "print(string)"
   ]
  },
  {
   "cell_type": "code",
   "execution_count": 19,
   "metadata": {},
   "outputs": [
    {
     "name": "stdout",
     "output_type": "stream",
     "text": [
      "77.67858711888235 % of the words in the list do not contain any forbidden letter\n"
     ]
    }
   ],
   "source": [
    "num=0\n",
    "for word in list_words:\n",
    "#     print(avoids(word,test))\n",
    "    if avoids(word,string)==True:\n",
    "        num+=1\n",
    "ratio=(num/len(list_words))*100\n",
    "print('{} % of the words in the list do not contain any forbidden letter'.format(ratio))"
   ]
  },
  {
   "cell_type": "markdown",
   "metadata": {},
   "source": [
    "### 2nd approach \n",
    "#### Taking the letter with the least frequency and search for the next letter within the set of words that contain that letter "
   ]
  },
  {
   "cell_type": "markdown",
   "metadata": {},
   "source": [
    "The frequencies for every letter are calculated. After finding the first letter, every word that contains that letter is copied to a discard list. Out of those discarded words, the next letters are searched recursively."
   ]
  },
  {
   "cell_type": "code",
   "execution_count": 20,
   "metadata": {},
   "outputs": [],
   "source": [
    "def forbidden_letters2(words,discard=[],forbidden=''):\n",
    "    '''Finds a combination of letters that excludes as little words as possible from a list of words\n",
    "    if no words containing those letters are allowed in the list.'''\n",
    "    frequencies={}\n",
    "    for word in words:\n",
    "        word_s=set(word)\n",
    "        for letter in word_s:\n",
    "            if letter not in frequencies.keys():\n",
    "                frequencies[letter]=0\n",
    "            frequencies[letter]+=1\n",
    "    least_used=[(key,value) for key,value in sorted(frequencies.items(), key=lambda item: item[1])]\n",
    "    if least_used[0][0] not in forbidden:\n",
    "        forbidden+=least_used[0][0]\n",
    "    else:\n",
    "        n=1\n",
    "        while least_used[n][0] in forbidden:\n",
    "            n+=1\n",
    "        forbidden+=least_used[n][0]\n",
    "    for word in words:\n",
    "        word_s=set(word)\n",
    "        if avoids(word,forbidden)==False:\n",
    "            discard.append(word)\n",
    "    if len(forbidden)<6:\n",
    "        return forbidden_letters2(discard,[],forbidden)\n",
    "    else:\n",
    "        return forbidden"
   ]
  },
  {
   "cell_type": "code",
   "execution_count": 21,
   "metadata": {},
   "outputs": [
    {
     "name": "stdout",
     "output_type": "stream",
     "text": [
      "qjwxvz\n"
     ]
    }
   ],
   "source": [
    "string2=forbidden_letters2(list_words)\n",
    "print(string2)"
   ]
  },
  {
   "cell_type": "code",
   "execution_count": 22,
   "metadata": {},
   "outputs": [
    {
     "name": "stdout",
     "output_type": "stream",
     "text": [
      "77.67858711888235 % of the words in the list do not contain any forbidden letter\n"
     ]
    }
   ],
   "source": [
    "num=0\n",
    "for word in list_words:\n",
    "#     print(avoids(word,test))\n",
    "    if avoids(word,string2)==True:\n",
    "        num+=1\n",
    "ratio=(num/len(list_words))*100\n",
    "print('{} % of the words in the list do not contain any forbidden letter'.format(ratio))"
   ]
  },
  {
   "cell_type": "markdown",
   "metadata": {},
   "source": [
    "The results from the first and second approach yield the same letters as forbidden letters. "
   ]
  },
  {
   "cell_type": "markdown",
   "metadata": {},
   "source": [
    "###  Ex. 4 (5 pts) A nice word puzzle and an even better programming exercise\n",
    "#### What is the longest English word, that remains a valid English word, as you remove its letters one at a time? Now, letters can be removed from either end, or the middle, but you can't rearrange any of the letters. Every time you drop a letter, you wind up with another English word. If you do that, you're eventually going to wind up with one letter and that too is going to be an English word|one that's found in the dictionary. We want to know what's the longest word and how many letters does it have?"
   ]
  },
  {
   "cell_type": "markdown",
   "metadata": {},
   "source": [
    "### 1st approach\n",
    "Does not work but I want to ask some questions\n",
    "First I was thinking about re-using a function I wrote in the previous semester in Computer Science. It finds the longest common subsequence of two strings. I wanted to order the input list in descending order and check for each word if the words with its length - 1 are valid children, such that their longest common substring is exactly the shorter word. Then I wanted to work with a queue-like datastructure and add the valid children to to be checked next. But then I didnt't know how to proceed and how to save the results in order to be able to access them in the following steps. I'd be very happy if you could give me some hints if this approach could possibly work. \n",
    "\n",
    "Actually, first I was thinking about a binary search tree structure and then performing something like a depth first search until I reach a leave node. I started implementing a class and some class method for that. But at some point I didn't know how to go on and I didn't know if that approach is even possible so I did it in another way. "
   ]
  },
  {
   "cell_type": "code",
   "execution_count": 23,
   "metadata": {},
   "outputs": [],
   "source": [
    "def LCS(string_a,string_b):\n",
    "    \"\"\"the function LCS_dyn calculates the longest common subsequence of two input sequences (string_a,string_b) by using\n",
    "    dynamic programming. As an output it returns a list of the LCS\"\"\"\n",
    "    import numpy as np\n",
    "    len_a=len(string_a)+1\n",
    "    len_b=len(string_b)+1\n",
    "    lengths=[[0]*len_a for i in range(len_b)]\n",
    "    for x in range(len_a):\n",
    "        for m in range(len_b):\n",
    "            if x!=0 and m!=0 and string_a[x-1]==string_b[m-1]:\n",
    "                lengths[m][x]=lengths[m-1][x-1]+1\n",
    "            elif string_a[x-1]!=string_b[m-1]:\n",
    "                lengths[m][x]=max(lengths[m-1][x],lengths[m][x-1])\n",
    "    subseq=[]\n",
    "    i = len(string_a)\n",
    "    j = len(string_b)\n",
    "    while i > 0 and j > 0:\n",
    "        if string_a[i-1] == string_b[j-1]: \n",
    "            subseq.append(string_a[i-1])\n",
    "            i-=1\n",
    "            j-=1\n",
    "        elif lengths[j-1][i] >= lengths[j][i-1]: \n",
    "            j-=1\n",
    "        elif lengths[j-1][i] < lengths[j][i-1]:\n",
    "            i-=1\n",
    "    subsequence=''.join(subseq)[::-1]\n",
    "    return (lengths[m][x],subsequence)"
   ]
  },
  {
   "cell_type": "markdown",
   "metadata": {},
   "source": [
    "### 2nd approach\n",
    "Does not work but I want to ask some questions "
   ]
  },
  {
   "cell_type": "code",
   "execution_count": 24,
   "metadata": {},
   "outputs": [],
   "source": [
    "def divideList(lst):\n",
    "    dct = {}\n",
    "    for element in lst:\n",
    "        if len(element) not in dct:\n",
    "            dct[len(element)] = [element]\n",
    "        elif len(element) in dct:\n",
    "            dct[len(element)] += [element]\n",
    "    res = []\n",
    "    for key in sorted(dct):\n",
    "        res.append(dct[key])\n",
    "    return res\n",
    "\n",
    "#Source: https://www.geeksforgeeks.org/python-split-list-of-strings-into-sublists-based-on-length/\n",
    "\n",
    "#sort words in decreasing order, once we found a reducible word we can stop because it has \n",
    "#to be the longest one \n",
    "\n",
    "reducible_words={}\n",
    "reducible_words['']=[]\n",
    "reducible_words['a']=['']\n",
    "reducible_words['i']=['']\n",
    "\n",
    "def children(word,words_list):\n",
    "    children=[]\n",
    "    for i in range(len(word)):\n",
    "        child=word[:i]+word[i+1:]\n",
    "        if child in words_list:\n",
    "            children.append(child)\n",
    "    return children\n",
    "\n",
    "def is_reducible(word,words_list):\n",
    "    if word in reducible_words.keys():\n",
    "        return reducible_words[word]\n",
    "    children_word=children(word,words_list)\n",
    "    reducible_children=[]\n",
    "    for child in children_word:\n",
    "        if is_reducible(child,words_list):\n",
    "            reducible_children.append(child)\n",
    "    reducible_words[word]=reducible_children\n",
    "    return reducible_children\n",
    "        \n",
    "def longest_reducible(words_list):\n",
    "    reducible = []\n",
    "#     list_div=divideList(words_list)[::-1]\n",
    "#     for i in range(len(list_div)):\n",
    "    for word in words_list:\n",
    "        reducible_h=[]\n",
    "#         if len(word)>max(reducible_words.values()):\n",
    "        if word not in reducible_words.keys() and is_reducible(word,words_list)!=[]:\n",
    "            reducible_h.append(word)\n",
    "        reducible.append(reducible_h)\n",
    "    red_sorted=sorted(reducible, key=len)\n",
    "#     for key, value in reducible_words.items():\n",
    "#         reducible.append((key, value))\n",
    "#     result=[(key,value) for key,value in sorted(reducible_words.items(), key=lambda item:len(item[0]),reverse=True)]\n",
    "#     solution=result[0]\n",
    "    return red_sorted"
   ]
  },
  {
   "cell_type": "code",
   "execution_count": 25,
   "metadata": {},
   "outputs": [],
   "source": [
    "test=['hallo','allo','haus','ahaus','aus','lo','a','s','o','ahallo','alo','llo','kowhieo']\n",
    "# longest_reducible(test)"
   ]
  },
  {
   "cell_type": "code",
   "execution_count": 26,
   "metadata": {},
   "outputs": [
    {
     "data": {
      "text/plain": [
       "[[], [], [], [], [], [], [], [], [], [], [], [], []]"
      ]
     },
     "execution_count": 26,
     "metadata": {},
     "output_type": "execute_result"
    }
   ],
   "source": [
    "longest_reducible(test)"
   ]
  },
  {
   "cell_type": "markdown",
   "metadata": {},
   "source": [
    "### 3rd approach"
   ]
  },
  {
   "cell_type": "code",
   "execution_count": 28,
   "metadata": {},
   "outputs": [
    {
     "data": {
      "text/plain": [
       "['complecting',\n",
       " 'completing',\n",
       " 'competing',\n",
       " 'compting',\n",
       " 'comping',\n",
       " 'coping',\n",
       " 'oping',\n",
       " 'ping',\n",
       " 'pig',\n",
       " 'pi',\n",
       " 'i']"
      ]
     },
     "execution_count": 28,
     "metadata": {},
     "output_type": "execute_result"
    }
   ],
   "source": [
    "#As 'a' and 'i' are the only valid English words with only one letter we can drop every word\n",
    "#from the list that contains neither a or i. This step shortens the word list by 14338 words.\n",
    "\n",
    "with open(\"words.txt\", 'r') as file:\n",
    "    content=file.read()\n",
    "list_words=content.split('\\n')\n",
    "\n",
    "list_words.append('a')\n",
    "list_words.append('i')\n",
    "\n",
    "for word in list_words:\n",
    "    if set(word)&set(['a','i'])==set():\n",
    "        list_words.remove(word)\n",
    "        \n",
    "# list_words.append('')\n",
    "words_sorted=sorted(list_words, key=len, reverse=True)\n",
    "\n",
    "def children(word,words_list):\n",
    "    '''The function takes a word and a word list as input and checks if removing one letter from \\\n",
    "    the word leads to a valid word of the words list. It returns the first valid children word \\\n",
    "    that was found.'''\n",
    "    words=words_list[len(word)-1]\n",
    "    for i in range(len(word)):\n",
    "        child = word[:i] + word[i+1:]\n",
    "        if child in words:\n",
    "            return child\n",
    "\n",
    "def reducible_word(words_list):\n",
    "    '''The function takes a word list as input and returns the longest word in it that is \\\n",
    "    reducible.'''\n",
    "    words_s=sorted(words_list,key=len, reverse=True)\n",
    "    reducible={}\n",
    "    dictionary_words={}\n",
    "    maximum=len(max(words_sorted, key=len))+1\n",
    "    for i in range(maximum):\n",
    "        dictionary_words[i]=[]\n",
    "    for word in words_sorted:\n",
    "        dictionary_words[len(word)].append(word)\n",
    "    for word in words_s:\n",
    "        reducible[word]=[word]\n",
    "        new_word=word\n",
    "        while children(new_word, dictionary_words):\n",
    "            new_word=children(new_word, dictionary_words)\n",
    "            reducible[word].append(new_word)\n",
    "        if len(word)>len(reducible[word]):\n",
    "            del reducible[word]\n",
    "        else:\n",
    "            return reducible[word]\n",
    "\n",
    "reducible_word(words_sorted)"
   ]
  },
  {
   "cell_type": "code",
   "execution_count": null,
   "metadata": {},
   "outputs": [],
   "source": []
  }
 ],
 "metadata": {
  "kernelspec": {
   "display_name": "Python 3",
   "language": "python",
   "name": "python3"
  },
  "language_info": {
   "codemirror_mode": {
    "name": "ipython",
    "version": 3
   },
   "file_extension": ".py",
   "mimetype": "text/x-python",
   "name": "python",
   "nbconvert_exporter": "python",
   "pygments_lexer": "ipython3",
   "version": "3.7.0"
  }
 },
 "nbformat": 4,
 "nbformat_minor": 2
}
