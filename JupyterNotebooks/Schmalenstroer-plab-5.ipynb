{
 "cells": [
  {
   "cell_type": "markdown",
   "metadata": {},
   "source": [
    "# Programming Lab 1 \n",
    "\n",
    "## Handout 5 \n",
    "\n",
    "## Lara Schmalenstroer (s0laschm@uni-bonn.de)"
   ]
  },
  {
   "cell_type": "markdown",
   "metadata": {},
   "source": [
    "### Ex.1 (4pts) Reading in distance matrices\n",
    "Assume that all the distances have already been calculated and are stored in a text file similar to the Blosum matrices of the previous weeks. Two files, one containing pairwise distances between 5 objects (small-distances.txt) and one containing pairwise distances between 13 objects (distances.txt) are given. Write a function that is able to read distance matrices and store them, for instance, in a dictionary of dictionaries so that distances can be accessed like dist['D']['B']."
   ]
  },
  {
   "cell_type": "code",
   "execution_count": 1,
   "metadata": {},
   "outputs": [],
   "source": [
    "def read_distance_matrix(filename):\n",
    "    with open(filename,'r') as file:\n",
    "        content=file.readlines()\n",
    "    list_indices=[]\n",
    "    for i in range(len(content)):\n",
    "        content[i]=content[i].replace('\\n','').split(' ')\n",
    "        list_indices.append([])\n",
    "        for j in range(len(content[i])):\n",
    "            if content[i][j]=='':\n",
    "                list_indices[i].append(j)\n",
    "    i=len(list_indices)-1\n",
    "    while i>-1:\n",
    "        j=len(list_indices[i])-1\n",
    "        while j>-1:\n",
    "            index=list_indices[i][j]\n",
    "            content[i].pop(index)\n",
    "            j-=1\n",
    "        i-=1\n",
    "    distances={}\n",
    "    names=content[0]\n",
    "    content=content[1:]\n",
    "    for i in range(len(content)):\n",
    "        distances[content[i][0]]={}\n",
    "        dict_t={}\n",
    "        for j in range(1,len(content[i])):\n",
    "            letter=names[j-1]\n",
    "            dict_t[letter]=int(content[i][j])\n",
    "            if j==len(content[i])-1:\n",
    "                distances[content[i][0]]=dict_t\n",
    "    return distances"
   ]
  },
  {
   "cell_type": "code",
   "execution_count": 16,
   "metadata": {},
   "outputs": [
    {
     "data": {
      "text/plain": [
       "{'A': {'A': 0, 'B': 4, 'C': 1, 'D': 2, 'E': 5},\n",
       " 'B': {'A': 4, 'B': 0, 'C': 5, 'D': 2, 'E': 3},\n",
       " 'C': {'A': 1, 'B': 5, 'C': 0, 'D': 3, 'E': 6},\n",
       " 'D': {'A': 2, 'B': 2, 'C': 3, 'D': 0, 'E': 3},\n",
       " 'E': {'A': 5, 'B': 3, 'C': 6, 'D': 3, 'E': 0}}"
      ]
     },
     "execution_count": 16,
     "metadata": {},
     "output_type": "execute_result"
    }
   ],
   "source": [
    "small=read_distance_matrix('small-distances.txt')\n",
    "small"
   ]
  },
  {
   "cell_type": "code",
   "execution_count": 18,
   "metadata": {},
   "outputs": [
    {
     "name": "stdout",
     "output_type": "stream",
     "text": [
      "{'A': {'A': 0, 'B': 2, 'C': 5, 'D': 9, 'E': 5, 'F': 5, 'G': 3, 'H': 7, 'I': 6, 'J': 2, 'K': 1, 'L': 1, 'M': 8}, 'B': {'A': 2, 'B': 0, 'C': 7, 'D': 11, 'E': 7, 'F': 7, 'G': 5, 'H': 9, 'I': 8, 'J': 4, 'K': 3, 'L': 1, 'M': 8}, 'C': {'A': 5, 'B': 7, 'C': 0, 'D': 6, 'E': 4, 'F': 4, 'G': 6, 'H': 2, 'I': 5, 'J': 3, 'K': 6, 'L': 6, 'M': 9}, 'D': {'A': 9, 'B': 11, 'C': 6, 'D': 0, 'E': 8, 'F': 4, 'G': 10, 'H': 6, 'I': 3, 'J': 7, 'K': 10, 'L': 10, 'M': 15}, 'E': {'A': 5, 'B': 7, 'C': 4, 'D': 8, 'E': 0, 'F': 4, 'G': 2, 'H': 6, 'I': 5, 'J': 3, 'K': 4, 'L': 6, 'M': 13}, 'F': {'A': 5, 'B': 7, 'C': 4, 'D': 4, 'E': 4, 'F': 0, 'G': 6, 'H': 4, 'I': 1, 'J': 3, 'K': 6, 'L': 6, 'M': 13}, 'G': {'A': 3, 'B': 5, 'C': 6, 'D': 10, 'E': 2, 'F': 6, 'G': 0, 'H': 8, 'I': 7, 'J': 3, 'K': 2, 'L': 4, 'M': 11}, 'H': {'A': 7, 'B': 9, 'C': 2, 'D': 6, 'E': 6, 'F': 4, 'G': 8, 'H': 0, 'I': 5, 'J': 5, 'K': 8, 'L': 8, 'M': 9}, 'I': {'A': 6, 'B': 8, 'C': 5, 'D': 3, 'E': 5, 'F': 1, 'G': 7, 'H': 5, 'I': 0, 'J': 4, 'K': 7, 'L': 7, 'M': 14}, 'J': {'A': 2, 'B': 4, 'C': 3, 'D': 7, 'E': 3, 'F': 3, 'G': 3, 'H': 5, 'I': 4, 'J': 0, 'K': 3, 'L': 3, 'M': 10}, 'K': {'A': 1, 'B': 3, 'C': 6, 'D': 10, 'E': 4, 'F': 6, 'G': 2, 'H': 8, 'I': 7, 'J': 3, 'K': 0, 'L': 2, 'M': 9}, 'L': {'A': 1, 'B': 1, 'C': 6, 'D': 10, 'E': 6, 'F': 6, 'G': 4, 'H': 8, 'I': 7, 'J': 3, 'K': 2, 'L': 0, 'M': 7}, 'M': {'A': 8, 'B': 8, 'C': 9, 'D': 15, 'E': 13, 'F': 13, 'G': 11, 'H': 9, 'I': 14, 'J': 10, 'K': 9, 'L': 7, 'M': 0}}\n"
     ]
    }
   ],
   "source": [
    "dist=read_distance_matrix('distances.txt')\n",
    "print(dist)"
   ]
  },
  {
   "cell_type": "markdown",
   "metadata": {},
   "source": [
    "### Ex.2 (4pts) Number of elements of a nested tuple\n",
    "First, write a function that counts the number of elementary objects in a nested tuple. I.e., the function should return 3 for (('A','B'),'C') and 5 for ((('A','B'),'C'),('D','E')). This function will be helpful when determining cluster distances."
   ]
  },
  {
   "cell_type": "code",
   "execution_count": 5,
   "metadata": {},
   "outputs": [],
   "source": [
    "def no_of_objects_nested_tuple(nested_tuple):\n",
    "    string_tuple=str(nested_tuple)\n",
    "    forbidden={'(',')',',',\"'\",' '}\n",
    "    counter=0\n",
    "    for char in string_tuple:\n",
    "        if char not in forbidden:\n",
    "            counter+=1\n",
    "    return counter"
   ]
  },
  {
   "cell_type": "markdown",
   "metadata": {},
   "source": [
    "### Ex.3 (4pts) Merging clusters\n",
    "Write a function taking three parameters: a distance matrix (i.e. a dictionary of dictionaries as in exercise 1) and two clusters (represented as strings/tuples) that merges two clusters by updating the distance matrix."
   ]
  },
  {
   "cell_type": "code",
   "execution_count": 6,
   "metadata": {},
   "outputs": [],
   "source": [
    "def merge_cluster(clusterA,clusterB,dist_matrix):\n",
    "    name_new=(clusterA,clusterB)\n",
    "    elementsA=no_of_objects_nested_tuple(clusterA)\n",
    "    elementsB=no_of_objects_nested_tuple(clusterB)\n",
    "    dist_matrix[name_new]={}\n",
    "    dist_matrix[name_new]={key:(1/(elementsA+elementsB))*(elementsA*dist_matrix[clusterA][key]+\\\n",
    "                                                      elementsB*dist_matrix[clusterB][key]) \\\n",
    "                           for key in dist_matrix[clusterA]}\n",
    "    dist_matrix[name_new][name_new]=0\n",
    "    del dist_matrix[clusterA]\n",
    "    del dist_matrix[clusterB]\n",
    "    for key in dist_matrix:\n",
    "        if key!=name_new:\n",
    "            dist_matrix[key][name_new]=dist_matrix[name_new][key]\n",
    "        if clusterA in dist_matrix[key].keys():\n",
    "            del dist_matrix[key][clusterA]\n",
    "        if clusterB in dist_matrix[key].keys():\n",
    "            del dist_matrix[key][clusterB]\n",
    "    return dist_matrix"
   ]
  },
  {
   "cell_type": "code",
   "execution_count": 7,
   "metadata": {},
   "outputs": [
    {
     "data": {
      "text/plain": [
       "{'C': {'C': 0, 'D': 3, 'E': 6, ('A', 'B'): 3.0},\n",
       " 'D': {'C': 3, 'D': 0, 'E': 3, ('A', 'B'): 2.0},\n",
       " 'E': {'C': 6, 'D': 3, 'E': 0, ('A', 'B'): 4.0},\n",
       " ('A', 'B'): {'C': 3.0, 'D': 2.0, 'E': 4.0, ('A', 'B'): 0}}"
      ]
     },
     "execution_count": 7,
     "metadata": {},
     "output_type": "execute_result"
    }
   ],
   "source": [
    "merge_cluster('A','B',small)"
   ]
  },
  {
   "cell_type": "markdown",
   "metadata": {},
   "source": [
    "### Ex.4 (4pts) Find closest clusters\n",
    "Write a function that takes a distance matrix as input and returns the two clusters that should be merged ,i.e. whose distance is smallest."
   ]
  },
  {
   "cell_type": "code",
   "execution_count": 8,
   "metadata": {},
   "outputs": [],
   "source": [
    "def closest_clusters(dist_matrix):\n",
    "    min_dist=10000\n",
    "    if len(dist_matrix)==2:\n",
    "        list_cluster=[]\n",
    "        for key in dist_matrix:\n",
    "            list_cluster.append(key)\n",
    "        clusterA=list_cluster[0]\n",
    "        clusterB=list_cluster[1]\n",
    "#     clusterA=''\n",
    "#     clusterB=''\n",
    "    else:\n",
    "        for key in dist_matrix:\n",
    "            for k2 in dist_matrix[key]:\n",
    "                if dist_matrix[key][k2]<min_dist and key!=k2:\n",
    "                    min_dist=dist_matrix[key][k2]\n",
    "                    clusterA=key\n",
    "                    clusterB=k2\n",
    "    return (clusterA,clusterB)"
   ]
  },
  {
   "cell_type": "code",
   "execution_count": 9,
   "metadata": {},
   "outputs": [
    {
     "data": {
      "text/plain": [
       "('D', ('A', 'B'))"
      ]
     },
     "execution_count": 9,
     "metadata": {},
     "output_type": "execute_result"
    }
   ],
   "source": [
    "closest_clusters(small)"
   ]
  },
  {
   "cell_type": "markdown",
   "metadata": {},
   "source": [
    "### Ex.5 (4pts) Hierarchical clustering\n",
    "Write a function implementing the hierarchical clustering according to the pseudocode. The function should return the final clustering as a tuple and the heights for each cluster. The height should be stored as a dictionary, where the key is the cluster and the value the height. Test your program using the two files small-distances.txt and distances.txt. To visualize the result you can use the function showtree provided in showtree.py by copying that file from the workshop folder and using from showtree import showtree."
   ]
  },
  {
   "cell_type": "code",
   "execution_count": 11,
   "metadata": {},
   "outputs": [],
   "source": [
    "def hierarchical_clustering(dist_matrix):\n",
    "    F=tuple(key for key in dist_matrix)\n",
    "    heights={key:0 for key in dist_matrix}\n",
    "    while len(F)>1:\n",
    "        new_cluster=closest_clusters(dist_matrix)\n",
    "        clusterA=new_cluster[0]\n",
    "        clusterB=new_cluster[1]\n",
    "        heights[new_cluster]=dist_matrix[clusterA][clusterB]/2\n",
    "        merge_cluster(clusterA,clusterB,dist_matrix)\n",
    "        F=tuple(dist_matrix.keys())\n",
    "    return F[0],heights"
   ]
  },
  {
   "cell_type": "code",
   "execution_count": 12,
   "metadata": {},
   "outputs": [
    {
     "data": {
      "text/plain": [
       "((('A', 'C'), ('E', ('B', 'D'))),\n",
       " {'A': 0,\n",
       "  'B': 0,\n",
       "  'C': 0,\n",
       "  'D': 0,\n",
       "  'E': 0,\n",
       "  ('A', 'C'): 0.5,\n",
       "  ('B', 'D'): 1.0,\n",
       "  ('E', ('B', 'D')): 1.5,\n",
       "  (('A', 'C'), ('E', ('B', 'D'))): 2.083333333333333})"
      ]
     },
     "execution_count": 12,
     "metadata": {},
     "output_type": "execute_result"
    }
   ],
   "source": [
    "hierarchical_clustering(small)"
   ]
  },
  {
   "cell_type": "code",
   "execution_count": 13,
   "metadata": {},
   "outputs": [
    {
     "data": {
      "text/plain": [
       "(('M',\n",
       "  (((('A', 'K'), ('B', 'L')), ('J', ('E', 'G'))),\n",
       "   (('C', 'H'), ('D', ('F', 'I'))))),\n",
       " {'A': 0,\n",
       "  'B': 0,\n",
       "  'C': 0,\n",
       "  'D': 0,\n",
       "  'E': 0,\n",
       "  'F': 0,\n",
       "  'G': 0,\n",
       "  'H': 0,\n",
       "  'I': 0,\n",
       "  'J': 0,\n",
       "  'K': 0,\n",
       "  'L': 0,\n",
       "  'M': 0,\n",
       "  ('A', 'K'): 0.5,\n",
       "  ('B', 'L'): 0.5,\n",
       "  ('F', 'I'): 0.5,\n",
       "  ('C', 'H'): 1.0,\n",
       "  ('E', 'G'): 1.0,\n",
       "  (('A', 'K'), ('B', 'L')): 1.0,\n",
       "  ('J', ('E', 'G')): 1.5,\n",
       "  ('D', ('F', 'I')): 1.75,\n",
       "  ((('A', 'K'), ('B', 'L')), ('J', ('E', 'G'))): 2.0,\n",
       "  (('C', 'H'), ('D', ('F', 'I'))): 2.5,\n",
       "  (((('A', 'K'), ('B', 'L')), ('J', ('E', 'G'))),\n",
       "   (('C', 'H'), ('D', ('F', 'I')))): 3.3428571428571425,\n",
       "  ('M',\n",
       "   (((('A', 'K'), ('B', 'L')), ('J', ('E', 'G'))),\n",
       "    (('C', 'H'), ('D', ('F', 'I'))))): 5.25})"
      ]
     },
     "execution_count": 13,
     "metadata": {},
     "output_type": "execute_result"
    }
   ],
   "source": [
    "hierarchical_clustering(dist)"
   ]
  },
  {
   "cell_type": "code",
   "execution_count": 14,
   "metadata": {},
   "outputs": [],
   "source": [
    "from showtree import showtree"
   ]
  },
  {
   "cell_type": "code",
   "execution_count": 17,
   "metadata": {},
   "outputs": [
    {
     "data": {
      "image/png": "[encoded data removed]",
      "text/plain": [
       "<Figure size 432x288 with 1 Axes>"
      ]
     },
     "metadata": {
      "needs_background": "light"
     },
     "output_type": "display_data"
    }
   ],
   "source": [
    "tree_s,height_s = hierarchical_clustering(small)\n",
    "showtree(tree_s,height_s)"
   ]
  },
  {
   "cell_type": "code",
   "execution_count": 19,
   "metadata": {},
   "outputs": [
    {
     "data": {
      "image/png": "[encoded data removed]",
      "text/plain": [
       "<Figure size 432x288 with 1 Axes>"
      ]
     },
     "metadata": {
      "needs_background": "light"
     },
     "output_type": "display_data"
    }
   ],
   "source": [
    "tree_d,height_d = hierarchical_clustering(dist)\n",
    "showtree(tree_d,height_d)"
   ]
  },
  {
   "cell_type": "code",
   "execution_count": 20,
   "metadata": {},
   "outputs": [
    {
     "ename": "ImportError",
     "evalue": "cannot import name 'asciitree' from 'showtree' (C:\\Users\\Lara\\Programming_Lab_1\\showtree.py)",
     "output_type": "error",
     "traceback": [
      "\u001b[1;31m---------------------------------------------------------------------------\u001b[0m",
      "\u001b[1;31mImportError\u001b[0m                               Traceback (most recent call last)",
      "\u001b[1;32m<ipython-input-20-4f5deafc92ee>\u001b[0m in \u001b[0;36m<module>\u001b[1;34m()\u001b[0m\n\u001b[1;32m----> 1\u001b[1;33m \u001b[1;32mfrom\u001b[0m \u001b[0mshowtree\u001b[0m \u001b[1;32mimport\u001b[0m \u001b[0masciitree\u001b[0m\u001b[1;33m\u001b[0m\u001b[0m\n\u001b[0m",
      "\u001b[1;31mImportError\u001b[0m: cannot import name 'asciitree' from 'showtree' (C:\\Users\\Lara\\Programming_Lab_1\\showtree.py)"
     ]
    }
   ],
   "source": [
    "from showtree import asciitree"
   ]
  },
  {
   "cell_type": "code",
   "execution_count": null,
   "metadata": {},
   "outputs": [],
   "source": []
  }
 ],
 "metadata": {
  "kernelspec": {
   "display_name": "Python 3",
   "language": "python",
   "name": "python3"
  },
  "language_info": {
   "codemirror_mode": {
    "name": "ipython",
    "version": 3
   },
   "file_extension": ".py",
   "mimetype": "text/x-python",
   "name": "python",
   "nbconvert_exporter": "python",
   "pygments_lexer": "ipython3",
   "version": "3.7.0"
  }
 },
 "nbformat": 4,
 "nbformat_minor": 2
}
