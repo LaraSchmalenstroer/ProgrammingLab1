{
 "cells": [
  {
   "cell_type": "markdown",
   "metadata": {},
   "source": [
    "# Programming Lab 1 \n",
    "\n",
    "## Handout 8\n",
    "\n",
    "## Lara Schmalenstroer (s0laschm@uni-bonn.de)"
   ]
  },
  {
   "cell_type": "markdown",
   "metadata": {},
   "source": [
    "#### Ex1 (8pts) Nussinov folding algorithm \n",
    "##### Implement the Nussinov folding algorithm, constructing the dynamic programming matrix N(i,j). Your function should take an RNA sequence as argument and return the completed dynaminc programming matrix."
   ]
  },
  {
   "cell_type": "code",
   "execution_count": 59,
   "metadata": {},
   "outputs": [],
   "source": [
    "import numpy as np\n",
    "\n",
    "def is_comp_base(base1,base2):\n",
    "    comp=[('A','U'),('C','G')]\n",
    "    if tuple(sorted(base1+base2)) in comp:\n",
    "        return 1\n",
    "    return 0"
   ]
  },
  {
   "cell_type": "code",
   "execution_count": 60,
   "metadata": {},
   "outputs": [],
   "source": [
    "def nussinov(rna_seq):\n",
    "    N=np.zeros(shape=(len(rna_seq),len(rna_seq)), dtype=int)\n",
    "    dim=len(N)\n",
    "    for s in range(1,dim):\n",
    "        for j in range(s,dim):\n",
    "            i=j-s\n",
    "            b1=rna_seq[i]\n",
    "            b2=rna_seq[j-1]\n",
    "            left=N[i][j-1]\n",
    "            below=N[i+1][j]\n",
    "            diagonal=N[i+1][j-1]+is_comp_base(b1,b2)\n",
    "            if j-i+1>=3:\n",
    "                sub=max([N[i][k]+N[k+1][j] for k in range(i,j)])\n",
    "                N[i][j]=max(left,below,diagonal,sub)\n",
    "            else:\n",
    "                N[i][j]=max(left,below,diagonal)\n",
    "    return N"
   ]
  },
  {
   "cell_type": "code",
   "execution_count": 61,
   "metadata": {},
   "outputs": [],
   "source": [
    "rna_seq='AUCGGAGCAUUUUUUGCUCCGACGCAGCCUCAUGCUUUUUU'"
   ]
  },
  {
   "cell_type": "code",
   "execution_count": 72,
   "metadata": {},
   "outputs": [],
   "source": [
    "pairing=nussinov(rna_seq)"
   ]
  },
  {
   "cell_type": "code",
   "execution_count": 73,
   "metadata": {},
   "outputs": [
    {
     "data": {
      "text/plain": [
       "array([[ 0,  0,  1, ..., 14, 14, 14],\n",
       "       [ 0,  0,  0, ..., 13, 13, 13],\n",
       "       [ 0,  0,  0, ..., 12, 12, 12],\n",
       "       ...,\n",
       "       [ 0,  0,  0, ...,  0,  0,  0],\n",
       "       [ 0,  0,  0, ...,  0,  0,  0],\n",
       "       [ 0,  0,  0, ...,  0,  0,  0]])"
      ]
     },
     "execution_count": 73,
     "metadata": {},
     "output_type": "execute_result"
    }
   ],
   "source": [
    "pairing"
   ]
  },
  {
   "cell_type": "markdown",
   "metadata": {},
   "source": [
    "#### Ex2.(8pts) Nussinov algorithm: Backtracking\n",
    "##### Given the RNA sequence and the completed dynamic programming matrix N(i,j) as input, write a function that returns the list of all matched basepairs."
   ]
  },
  {
   "cell_type": "code",
   "execution_count": 115,
   "metadata": {},
   "outputs": [],
   "source": [
    "def nussinov_backtracking(rna_seq,N,pairs=None,i=None,j=None):\n",
    "    #set i and j to initial values\n",
    "    if i==None and j==None:\n",
    "        i=0\n",
    "        j=len(rna_seq)-1\n",
    "    #initialize the pairs list in the initial call\n",
    "    if pairs==None:\n",
    "        pairs=[]\n",
    "    #if we reach the initial diagonals, the pairs can be returned \n",
    "    if (j-i+1)<=2:\n",
    "        return pairs\n",
    "    else:\n",
    "        if N[i][j]==N[i+1][j-1]+is_comp_base(rna_seq[i],rna_seq[j]):\n",
    "            if is_comp_base(rna_seq[i],rna_seq[j])==1:\n",
    "                pairs.append((i,j))\n",
    "            nussinov_backtracking(rna_seq,N,pairs,i+1,j-1)\n",
    "        else:\n",
    "            for k in range(i,j):\n",
    "                if N[i][j]==N[i][k]+N[k+1][j]:\n",
    "                    nussinov_backtracking(rna_seq,N,pairs,i,k-1)\n",
    "                    nussinov_backtracking(rna_seq,N,pairs,k+1,j-1)\n",
    "                    break\n",
    "    return pairs"
   ]
  },
  {
   "cell_type": "code",
   "execution_count": 116,
   "metadata": {},
   "outputs": [],
   "source": [
    "pairs=nussinov_backtracking(rna_seq,pairing)"
   ]
  },
  {
   "cell_type": "code",
   "execution_count": 117,
   "metadata": {},
   "outputs": [
    {
     "name": "stdout",
     "output_type": "stream",
     "text": [
      "[(0, 40), (1, 21), (2, 20), (3, 19), (4, 18), (5, 17), (6, 16), (8, 14), (23, 34), (24, 33), (25, 32)]\n"
     ]
    }
   ],
   "source": [
    "print(pairs)"
   ]
  },
  {
   "cell_type": "markdown",
   "metadata": {},
   "source": [
    "#### Ex3. (2pts) Display matching basepairs\n",
    "##### To display the resulting base pairing, use parentheses to produce an output as shown above."
   ]
  },
  {
   "cell_type": "code",
   "execution_count": 41,
   "metadata": {},
   "outputs": [],
   "source": [
    "pairs=[(3,5),(4,8),(6,9)]\n",
    "seq='AUUCAUUAUA'"
   ]
  },
  {
   "cell_type": "code",
   "execution_count": 45,
   "metadata": {},
   "outputs": [],
   "source": [
    "def nussinov_output(pairs,rna_seq):\n",
    "    indices=[[],[]]\n",
    "    output=[]\n",
    "    for k in range(len(pairs)):\n",
    "        indices[0].append(pairs[k][0])\n",
    "        indices[1].append(pairs[k][1])\n",
    "    for i in range(len(rna_seq)):\n",
    "        if i in indices[0]:\n",
    "            output.append('(')\n",
    "        elif i in indices[1]:\n",
    "            output.append(')')\n",
    "        else:\n",
    "            output.append('.')\n",
    "    output=''.join(output)\n",
    "    print(rna_seq)\n",
    "    print(output)\n",
    "    return "
   ]
  },
  {
   "cell_type": "code",
   "execution_count": 96,
   "metadata": {},
   "outputs": [
    {
     "name": "stdout",
     "output_type": "stream",
     "text": [
      "AUCGGAGCAUUUUUUGCUCCGACGCAGCCUCAUGCUUUUUU\n",
      "(((((((.(.....).)))))).(((......))).....)\n"
     ]
    }
   ],
   "source": [
    "nussinov_output(pairs,rna_seq)"
   ]
  },
  {
   "cell_type": "markdown",
   "metadata": {},
   "source": [
    "#### Ex4. (2pts) Modifications of the algorithm\n",
    "##### In the algorithm as described, the minimum hairpin loop consists of 1 base, e.g GUC where G and C are paired and the loop is formed by the single base U. Modify the algorithm so that a parameter h, indicating the minimum allowed loop length, can be given. The above algorithm corresponds to h=1. In addition to h >1, make sure your algorithm also works for h=0."
   ]
  },
  {
   "cell_type": "code",
   "execution_count": 48,
   "metadata": {},
   "outputs": [],
   "source": [
    "def nussinov2(rna_seq,h):\n",
    "    #h means the number bases a match has to be separated from each other. h=1 corresponds to loop\n",
    "    #length 0\n",
    "    N=np.zeros(shape=(len(rna_seq),len(rna_seq)), dtype=int)\n",
    "    dim=len(N)\n",
    "    for s in range(h,dim):\n",
    "        for i in range(dim-s):\n",
    "            j=i+s\n",
    "            b1=rna_seq[i]\n",
    "            b2=rna_seq[j-1]\n",
    "            left=N[i][j-1]\n",
    "            below=N[i+1][j]\n",
    "            diagonal=N[i+1][j-1]+is_comp_base(b1,b2)\n",
    "            sub=max([N[i][k]+N[k+1][j] for k in range(i,j)])\n",
    "            N[i][j]=max(left,below,diagonal,sub)\n",
    "    return N"
   ]
  },
  {
   "cell_type": "code",
   "execution_count": 49,
   "metadata": {},
   "outputs": [
    {
     "data": {
      "text/plain": [
       "array([[ 0,  0,  1, ..., 14, 14, 14],\n",
       "       [ 0,  0,  0, ..., 13, 13, 13],\n",
       "       [ 0,  0,  0, ..., 12, 12, 12],\n",
       "       ...,\n",
       "       [ 0,  0,  0, ...,  0,  0,  0],\n",
       "       [ 0,  0,  0, ...,  0,  0,  0],\n",
       "       [ 0,  0,  0, ...,  0,  0,  0]])"
      ]
     },
     "execution_count": 49,
     "metadata": {},
     "output_type": "execute_result"
    }
   ],
   "source": [
    "nussinov2(rna_seq,1)"
   ]
  },
  {
   "cell_type": "code",
   "execution_count": 50,
   "metadata": {},
   "outputs": [
    {
     "data": {
      "text/plain": [
       "array([[ 0,  0,  1, ..., 14, 14, 14],\n",
       "       [ 0,  0,  0, ..., 13, 13, 13],\n",
       "       [ 0,  0,  0, ..., 12, 12, 12],\n",
       "       ...,\n",
       "       [ 0,  0,  0, ...,  0,  0,  0],\n",
       "       [ 0,  0,  0, ...,  0,  0,  0],\n",
       "       [ 0,  0,  0, ...,  0,  0,  0]])"
      ]
     },
     "execution_count": 50,
     "metadata": {},
     "output_type": "execute_result"
    }
   ],
   "source": [
    "nussinov2(rna_seq,2)"
   ]
  },
  {
   "cell_type": "code",
   "execution_count": 51,
   "metadata": {},
   "outputs": [
    {
     "data": {
      "text/plain": [
       "array([[ 0,  0,  0, ..., 13, 13, 13],\n",
       "       [ 0,  0,  0, ..., 12, 12, 12],\n",
       "       [ 0,  0,  0, ..., 11, 11, 11],\n",
       "       ...,\n",
       "       [ 0,  0,  0, ...,  0,  0,  0],\n",
       "       [ 0,  0,  0, ...,  0,  0,  0],\n",
       "       [ 0,  0,  0, ...,  0,  0,  0]])"
      ]
     },
     "execution_count": 51,
     "metadata": {},
     "output_type": "execute_result"
    }
   ],
   "source": [
    "nussinov2(rna_seq,5)"
   ]
  },
  {
   "cell_type": "code",
   "execution_count": null,
   "metadata": {},
   "outputs": [],
   "source": []
  }
 ],
 "metadata": {
  "kernelspec": {
   "display_name": "Python 3",
   "language": "python",
   "name": "python3"
  },
  "language_info": {
   "codemirror_mode": {
    "name": "ipython",
    "version": 3
   },
   "file_extension": ".py",
   "mimetype": "text/x-python",
   "name": "python",
   "nbconvert_exporter": "python",
   "pygments_lexer": "ipython3",
   "version": "3.7.0"
  }
 },
 "nbformat": 4,
 "nbformat_minor": 2
}
