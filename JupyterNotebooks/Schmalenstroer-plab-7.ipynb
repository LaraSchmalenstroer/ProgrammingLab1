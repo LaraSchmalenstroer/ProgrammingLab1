{
 "cells": [
  {
   "cell_type": "markdown",
   "metadata": {},
   "source": [
    "# Programming Lab 1 \n",
    "\n",
    "## Handout 7 \n",
    "\n",
    "## Lara Schmalenstroer (s0laschm@uni-bonn.de)"
   ]
  },
  {
   "cell_type": "markdown",
   "metadata": {},
   "source": [
    "## Read mapping and exact string matching\n",
    "\n",
    "### 1.(5+3pts) Naive string matching\n",
    "\n",
    "#### (a) (5pts) Mapping reads"
   ]
  },
  {
   "cell_type": "code",
   "execution_count": 12,
   "metadata": {},
   "outputs": [],
   "source": [
    "import re\n",
    "\n",
    "def map_reads_naive(reads,sequence):\n",
    "    positions={}\n",
    "    for read in reads:\n",
    "        pattern=re.compile(read)\n",
    "        match = re.finditer(pattern,sequence)\n",
    "        positions[read]=[]\n",
    "        for m in match:\n",
    "            pat=m.group()\n",
    "            pos=m.start()\n",
    "            positions[read].append(pos)\n",
    "        if len(positions[read])==0:\n",
    "            del positions[read]\n",
    "    return positions"
   ]
  },
  {
   "cell_type": "code",
   "execution_count": 13,
   "metadata": {},
   "outputs": [
    {
     "data": {
      "text/plain": [
       "{'abrac': [0], 'cadab': [4], 'racad': [2], 'adabr': [5]}"
      ]
     },
     "execution_count": 13,
     "metadata": {},
     "output_type": "execute_result"
    }
   ],
   "source": [
    "sequence='abracadabra'\n",
    "reads=['abrac','cadab','racad','adabr']\n",
    "\n",
    "map_reads_naive(reads,sequence)"
   ]
  },
  {
   "cell_type": "markdown",
   "metadata": {},
   "source": [
    "### 2. (6pts) Speed of matching\n",
    "#### (a) (3pts) Generate random data"
   ]
  },
  {
   "cell_type": "code",
   "execution_count": 16,
   "metadata": {},
   "outputs": [],
   "source": [
    "import random\n",
    "\n",
    "def get_random_data(genome_size,nr_of_reads,read_length,random_seed):\n",
    "    #assert type(genome_size)==int and type(nr_of_reads)==int and type(read_length)==int\n",
    "    alphabet=['a','c','g','t']\n",
    "    random.seed(random_seed)\n",
    "    genome=''.join(random.choices(alphabet,k=genome_size))\n",
    "    indices=[random.randint(0,genome_size-read_length) for i in range(nr_of_reads)]\n",
    "    reads=[genome[index:index+read_length] for index in indices]\n",
    "    return (genome,reads)"
   ]
  },
  {
   "cell_type": "code",
   "execution_count": 17,
   "metadata": {},
   "outputs": [
    {
     "data": {
      "text/plain": [
       "('ttaatggcgg', ['tggc', 'ggcg', 'taat'])"
      ]
     },
     "execution_count": 17,
     "metadata": {},
     "output_type": "execute_result"
    }
   ],
   "source": [
    "get_random_data(10,3,4,2)"
   ]
  },
  {
   "cell_type": "markdown",
   "metadata": {},
   "source": [
    "#### (b) (3pts) Test performance of read mapping\n",
    "##### (i)"
   ]
  },
  {
   "cell_type": "code",
   "execution_count": 18,
   "metadata": {},
   "outputs": [
    {
     "name": "stdout",
     "output_type": "stream",
     "text": [
      "Time: 60.15490810000006s\n"
     ]
    }
   ],
   "source": [
    "import timeit\n",
    "genome,reads=get_random_data(1000000, 10000,10,2)\n",
    "start=timeit.default_timer()\n",
    "map_reads_naive(reads,genome)\n",
    "stop=timeit.default_timer()\n",
    "t=stop-start\n",
    "print(f'Time: {t}s')"
   ]
  },
  {
   "cell_type": "markdown",
   "metadata": {},
   "source": [
    "##### (ii)"
   ]
  },
  {
   "cell_type": "code",
   "execution_count": 19,
   "metadata": {},
   "outputs": [
    {
     "name": "stdout",
     "output_type": "stream",
     "text": [
      "Time: 596.0370452s\n"
     ]
    }
   ],
   "source": [
    "genome,reads=get_random_data(1000000, 100000,11,2)\n",
    "start=timeit.default_timer()\n",
    "map_reads_naive(reads,genome)\n",
    "stop=timeit.default_timer()\n",
    "t=stop-start\n",
    "print(f'Time: {t}s')"
   ]
  },
  {
   "cell_type": "markdown",
   "metadata": {},
   "source": [
    "##### (iii)"
   ]
  },
  {
   "cell_type": "code",
   "execution_count": 41,
   "metadata": {},
   "outputs": [
    {
     "name": "stdout",
     "output_type": "stream",
     "text": [
      "Time: 564.8129436999998s\n"
     ]
    }
   ],
   "source": [
    "genome,reads=get_random_data(10000000, 10000,12,2)\n",
    "start=timeit.default_timer()\n",
    "map_reads_naive(reads,genome)\n",
    "stop=timeit.default_timer()\n",
    "t=stop-start\n",
    "print(f'Time: {t}s')"
   ]
  },
  {
   "cell_type": "markdown",
   "metadata": {},
   "source": [
    "### 3. (9pts) Preprocessing the \"genome\"\n",
    "#### (a) (6pts) Implement the read mapping function map_reads_lookup(reads,sequence,lookup_size) using the outlined strategy. Here, lookup_size is the size of the substrings to be used in the lookup table."
   ]
  },
  {
   "cell_type": "code",
   "execution_count": 20,
   "metadata": {},
   "outputs": [],
   "source": [
    "def preprocessing(genome,k):\n",
    "    positions={}\n",
    "    ind=0\n",
    "    kmer=genome[ind:ind+k]\n",
    "    while len(kmer)==k:\n",
    "        if kmer not in positions.keys():\n",
    "            positions[kmer]=[ind]\n",
    "        else:\n",
    "            positions[kmer].append(ind)\n",
    "        ind+=1\n",
    "        kmer=genome[ind:ind+k]\n",
    "    return positions"
   ]
  },
  {
   "cell_type": "code",
   "execution_count": 21,
   "metadata": {},
   "outputs": [
    {
     "data": {
      "text/plain": [
       "{'abra': [0, 7],\n",
       " 'brac': [1],\n",
       " 'raca': [2],\n",
       " 'acad': [3],\n",
       " 'cada': [4],\n",
       " 'adab': [5],\n",
       " 'dabr': [6]}"
      ]
     },
     "execution_count": 21,
     "metadata": {},
     "output_type": "execute_result"
    }
   ],
   "source": [
    "preprocessing(sequence,4)"
   ]
  },
  {
   "cell_type": "code",
   "execution_count": 22,
   "metadata": {},
   "outputs": [],
   "source": [
    "test='acgtatcgtatcc'\n",
    "res=preprocessing(test,4)"
   ]
  },
  {
   "cell_type": "code",
   "execution_count": 23,
   "metadata": {},
   "outputs": [
    {
     "data": {
      "text/plain": [
       "[0]"
      ]
     },
     "execution_count": 23,
     "metadata": {},
     "output_type": "execute_result"
    }
   ],
   "source": [
    "res['acgt']"
   ]
  },
  {
   "cell_type": "code",
   "execution_count": 24,
   "metadata": {},
   "outputs": [],
   "source": [
    "def map_reads_lookup(reads,genome,lookup_size):\n",
    "    positions=preprocessing(genome,lookup_size)\n",
    "    matches={}\n",
    "    for read in reads:\n",
    "        matches[read]=[]\n",
    "        k=read[:lookup_size]\n",
    "        indices=positions[k]\n",
    "        for index in indices:\n",
    "            if genome[index:index+len(read)]==read:\n",
    "                matches[read].append(index)\n",
    "    return matches"
   ]
  },
  {
   "cell_type": "markdown",
   "metadata": {},
   "source": [
    "#### (b) (3pts) Use a lookup size of 4 and 8 and determine the running times for the sample data generated in ex. 2(b).\n",
    "##### (i)"
   ]
  },
  {
   "cell_type": "code",
   "execution_count": 25,
   "metadata": {},
   "outputs": [
    {
     "name": "stdout",
     "output_type": "stream",
     "text": [
      "Time: 25.09676790000003s\n"
     ]
    }
   ],
   "source": [
    "import timeit\n",
    "genome,reads=get_random_data(1000000, 10000,10,2)\n",
    "start=timeit.default_timer()\n",
    "map_reads_lookup(reads,genome,4)\n",
    "stop=timeit.default_timer()\n",
    "t=stop-start\n",
    "print(f'Time: {t}s')"
   ]
  },
  {
   "cell_type": "code",
   "execution_count": 26,
   "metadata": {},
   "outputs": [
    {
     "name": "stdout",
     "output_type": "stream",
     "text": [
      "Time: 2.2620523999999023s\n"
     ]
    }
   ],
   "source": [
    "genome,reads=get_random_data(1000000, 10000,10,2)\n",
    "start=timeit.default_timer()\n",
    "map_reads_lookup(reads,genome,8)\n",
    "stop=timeit.default_timer()\n",
    "t=stop-start\n",
    "print(f'Time: {t}s')"
   ]
  },
  {
   "cell_type": "markdown",
   "metadata": {},
   "source": [
    "##### (ii)"
   ]
  },
  {
   "cell_type": "code",
   "execution_count": 27,
   "metadata": {},
   "outputs": [
    {
     "name": "stdout",
     "output_type": "stream",
     "text": [
      "Time: 236.42717119999998s\n"
     ]
    }
   ],
   "source": [
    "genome,reads=get_random_data(1000000, 100000,11,2)\n",
    "start=timeit.default_timer()\n",
    "map_reads_lookup(reads,genome,4)\n",
    "stop=timeit.default_timer()\n",
    "t=stop-start\n",
    "print(f'Time: {t}s')"
   ]
  },
  {
   "cell_type": "code",
   "execution_count": 28,
   "metadata": {},
   "outputs": [
    {
     "name": "stdout",
     "output_type": "stream",
     "text": [
      "Time: 4.032806900000196s\n"
     ]
    }
   ],
   "source": [
    "genome,reads=get_random_data(1000000, 100000,11,2)\n",
    "start=timeit.default_timer()\n",
    "map_reads_lookup(reads,genome,8)\n",
    "stop=timeit.default_timer()\n",
    "t=stop-start\n",
    "print(f'Time: {t}s')"
   ]
  },
  {
   "cell_type": "markdown",
   "metadata": {},
   "source": [
    "##### (iii)"
   ]
  },
  {
   "cell_type": "code",
   "execution_count": 29,
   "metadata": {},
   "outputs": [
    {
     "name": "stdout",
     "output_type": "stream",
     "text": [
      "Time: 248.5499852999999s\n"
     ]
    }
   ],
   "source": [
    "genome,reads=get_random_data(10000000, 10000,12,2)\n",
    "start=timeit.default_timer()\n",
    "map_reads_lookup(reads,genome,4)\n",
    "stop=timeit.default_timer()\n",
    "t=stop-start\n",
    "print(f'Time: {t}s')"
   ]
  },
  {
   "cell_type": "code",
   "execution_count": 30,
   "metadata": {},
   "outputs": [
    {
     "name": "stdout",
     "output_type": "stream",
     "text": [
      "Time: 24.29284369999982s\n"
     ]
    }
   ],
   "source": [
    "genome,reads=get_random_data(10000000, 10000,12,2)\n",
    "start=timeit.default_timer()\n",
    "map_reads_lookup(reads,genome,8)\n",
    "stop=timeit.default_timer()\n",
    "t=stop-start\n",
    "print(f'Time: {t}s')"
   ]
  },
  {
   "cell_type": "markdown",
   "metadata": {},
   "source": [
    "### 4. (10+3pts) Preprocessing the reads\n",
    "#### (a) (4pts) Write a Python class KeywordTree for representing such a keyword tree. The class will need to contain at least one method add_word for adding new words to a tree."
   ]
  },
  {
   "cell_type": "code",
   "execution_count": 31,
   "metadata": {},
   "outputs": [],
   "source": [
    "class KeywordTree:\n",
    "    def __init__(self):\n",
    "        self.root={}\n",
    "    \n",
    "    def AddWord(self,word):\n",
    "        first=self.root\n",
    "        for letter in word:\n",
    "            if letter not in first:\n",
    "                first[letter]={}\n",
    "                if word.endswith(letter):\n",
    "                    first[letter]={'word':'word'}\n",
    "            first=first[letter]\n",
    "        return first"
   ]
  },
  {
   "cell_type": "code",
   "execution_count": 32,
   "metadata": {},
   "outputs": [],
   "source": [
    "sequence='abracadabra'\n",
    "reads=['abrac','cadab','racad','adabr']"
   ]
  },
  {
   "cell_type": "code",
   "execution_count": 33,
   "metadata": {},
   "outputs": [],
   "source": [
    "def make_keyword_tree(reads):\n",
    "    tree=KeywordTree()\n",
    "    for read in reads:\n",
    "        tree.AddWord(read)\n",
    "    return tree.root"
   ]
  },
  {
   "cell_type": "code",
   "execution_count": 34,
   "metadata": {},
   "outputs": [],
   "source": [
    "dict_tree=make_keyword_tree(reads)"
   ]
  },
  {
   "cell_type": "code",
   "execution_count": 35,
   "metadata": {},
   "outputs": [
    {
     "data": {
      "text/plain": [
       "{'a': {'b': {'r': {'a': {'c': {'word': 'word'}}}},\n",
       "  'd': {'a': {'b': {'r': {'word': 'word'}}}}},\n",
       " 'c': {'a': {'d': {'a': {'b': {'word': 'word'}}}}},\n",
       " 'r': {'a': {'c': {'a': {'d': {'word': 'word'}}}}}}"
      ]
     },
     "execution_count": 35,
     "metadata": {},
     "output_type": "execute_result"
    }
   ],
   "source": [
    "dict_tree"
   ]
  },
  {
   "cell_type": "markdown",
   "metadata": {},
   "source": [
    "#### (b) (3pts) Write a read mapping function map_reads_tree(reads_tree,sequence), which uses keyword trees for read mapping. Here, the argument reads_tree should be the keyword tree generated from the reads. The function, again, should return a dictionary as described in ex.1 (a)."
   ]
  },
  {
   "cell_type": "code",
   "execution_count": 36,
   "metadata": {},
   "outputs": [],
   "source": [
    "def map_reads_tree(reads_tree,sequence):\n",
    "    mapping={}\n",
    "    for i in range(len(sequence)):\n",
    "        dic_reads=reads_tree\n",
    "        letter=sequence[i]\n",
    "        word=letter\n",
    "        j=i\n",
    "        while letter in dic_reads.keys():\n",
    "            if dic_reads[letter]=={'word':'word'}:\n",
    "                if word in mapping.keys():\n",
    "                    mapping[word].append(i)\n",
    "                else:\n",
    "                    mapping[word]=[i]\n",
    "                break\n",
    "            dic_reads=dic_reads[letter]\n",
    "            if j!=len(sequence)-1:\n",
    "                j+=1\n",
    "            letter=sequence[j]\n",
    "            word+=letter\n",
    "    return mapping"
   ]
  },
  {
   "cell_type": "code",
   "execution_count": 37,
   "metadata": {},
   "outputs": [
    {
     "data": {
      "text/plain": [
       "{'abrac': [0], 'racad': [2], 'cadab': [4], 'adabr': [5]}"
      ]
     },
     "execution_count": 37,
     "metadata": {},
     "output_type": "execute_result"
    }
   ],
   "source": [
    "map_reads_tree(dict_tree,sequence)"
   ]
  },
  {
   "cell_type": "markdown",
   "metadata": {},
   "source": [
    "#### (d) (3pts) Determine the running times for the sample data generated in ex. 2 (b).\n",
    "##### (i)"
   ]
  },
  {
   "cell_type": "code",
   "execution_count": 38,
   "metadata": {},
   "outputs": [
    {
     "name": "stdout",
     "output_type": "stream",
     "text": [
      "Time: 9.281505900000411s\n"
     ]
    }
   ],
   "source": [
    "import timeit\n",
    "genome,reads=get_random_data(1000000, 10000,10,2)\n",
    "tree=make_keyword_tree(reads)\n",
    "start=timeit.default_timer()\n",
    "map_reads_tree(tree,genome)\n",
    "stop=timeit.default_timer()\n",
    "t=stop-start\n",
    "print(f'Time: {t}s')"
   ]
  },
  {
   "cell_type": "markdown",
   "metadata": {},
   "source": [
    "##### (ii)"
   ]
  },
  {
   "cell_type": "code",
   "execution_count": 39,
   "metadata": {},
   "outputs": [
    {
     "name": "stdout",
     "output_type": "stream",
     "text": [
      "Time: 14.799783399999797s\n"
     ]
    }
   ],
   "source": [
    "genome,reads=get_random_data(1000000, 100000,11,2)\n",
    "tree=make_keyword_tree(reads)\n",
    "start=timeit.default_timer()\n",
    "map_reads_tree(tree,genome)\n",
    "stop=timeit.default_timer()\n",
    "t=stop-start\n",
    "print(f'Time: {t}s')"
   ]
  },
  {
   "cell_type": "markdown",
   "metadata": {},
   "source": [
    "##### (iii)"
   ]
  },
  {
   "cell_type": "code",
   "execution_count": 40,
   "metadata": {},
   "outputs": [
    {
     "name": "stdout",
     "output_type": "stream",
     "text": [
      "Time: 95.59415820000004s\n"
     ]
    }
   ],
   "source": [
    "genome,reads=get_random_data(10000000, 10000,12,2)\n",
    "tree=make_keyword_tree(reads)\n",
    "start=timeit.default_timer()\n",
    "map_reads_tree(tree,genome)\n",
    "stop=timeit.default_timer()\n",
    "t=stop-start\n",
    "print(f'Time: {t}s')"
   ]
  },
  {
   "cell_type": "code",
   "execution_count": null,
   "metadata": {},
   "outputs": [],
   "source": []
  }
 ],
 "metadata": {
  "kernelspec": {
   "display_name": "Python 3",
   "language": "python",
   "name": "python3"
  },
  "language_info": {
   "codemirror_mode": {
    "name": "ipython",
    "version": 3
   },
   "file_extension": ".py",
   "mimetype": "text/x-python",
   "name": "python",
   "nbconvert_exporter": "python",
   "pygments_lexer": "ipython3",
   "version": "3.7.0"
  }
 },
 "nbformat": 4,
 "nbformat_minor": 2
}
